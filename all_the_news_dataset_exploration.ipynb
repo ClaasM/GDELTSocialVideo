{
 "cells": [
  {
   "cell_type": "code",
   "execution_count": 7,
   "metadata": {},
   "outputs": [
    {
     "name": "stdout",
     "output_type": "stream",
     "text": [
      "CPU times: user 8.57 s, sys: 983 ms, total: 9.55 s\n",
      "Wall time: 9.55 s\n"
     ]
    }
   ],
   "source": [
    "%%time\n",
    "\n",
    "from zipfile import ZipFile\n",
    "import pandas as pd\n",
    "\n",
    "with ZipFile('data/all_the_news/all-the-news.zip') as zipfile:\n",
    "    files = zipfile.namelist()\n",
    "    for filename in files:\n",
    "        with zipfile.open(filename) as file:\n",
    "            pd.read_csv(file).head()"
   ]
  },
  {
   "cell_type": "code",
   "execution_count": null,
   "metadata": {},
   "outputs": [],
   "source": []
  }
 ],
 "metadata": {
  "kernelspec": {
   "display_name": "Python 3",
   "language": "python",
   "name": "python3"
  },
  "language_info": {
   "codemirror_mode": {
    "name": "ipython",
    "version": 3
   },
   "file_extension": ".py",
   "mimetype": "text/x-python",
   "name": "python",
   "nbconvert_exporter": "python",
   "pygments_lexer": "ipython3",
   "version": "3.6.2"
  }
 },
 "nbformat": 4,
 "nbformat_minor": 2
}
