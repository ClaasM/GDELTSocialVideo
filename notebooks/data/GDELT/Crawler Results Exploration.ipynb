{
 "cells": [
  {
   "cell_type": "markdown",
   "metadata": {},
   "source": [
    "# Exploring the Results of the Crawler"
   ]
  },
  {
   "cell_type": "code",
   "execution_count": 7,
   "metadata": {},
   "outputs": [
    {
     "name": "stdout",
     "output_type": "stream",
     "text": [
      "The autoreload extension is already loaded. To reload it, use:\n",
      "  %reload_ext autoreload\n"
     ]
    },
    {
     "name": "stderr",
     "output_type": "stream",
     "text": [
      "/Users/claasmeiners/.virtualenvs/thesis/lib/python3.7/site-packages/psycopg2/__init__.py:144: UserWarning: The psycopg2 wheel package will be renamed from release 2.8; in order to keep installing from binary please use \"pip install psycopg2-binary\" instead. For details see: <http://initd.org/psycopg/docs/install.html#binary-install-from-pypi>.\n",
      "  \"\"\")\n"
     ]
    }
   ],
   "source": [
    "import pandas as pd\n",
    "import numpy as np\n",
    "import os\n",
    "import psycopg2\n",
    "from urllib.parse import urlparse\n",
    "%load_ext autoreload\n",
    "%autoreload 2\n",
    "\n",
    "import matplotlib.pyplot as plt\n",
    "\n",
    "from src import util\n",
    "\n",
    "conn = conn = psycopg2.connect(database=\"gdelt_social_video\", user=\"postgres\")\n",
    "pd.set_option('display.max_colwidth', -1)"
   ]
  },
  {
   "cell_type": "code",
   "execution_count": 9,
   "metadata": {},
   "outputs": [
    {
     "data": {
      "text/html": [
       "<div>\n",
       "<style scoped>\n",
       "    .dataframe tbody tr th:only-of-type {\n",
       "        vertical-align: middle;\n",
       "    }\n",
       "\n",
       "    .dataframe tbody tr th {\n",
       "        vertical-align: top;\n",
       "    }\n",
       "\n",
       "    .dataframe thead th {\n",
       "        text-align: right;\n",
       "    }\n",
       "</style>\n",
       "<table border=\"1\" class=\"dataframe\">\n",
       "  <thead>\n",
       "    <tr style=\"text-align: right;\">\n",
       "      <th></th>\n",
       "      <th>status</th>\n",
       "      <th>status_count</th>\n",
       "    </tr>\n",
       "  </thead>\n",
       "  <tbody>\n",
       "    <tr>\n",
       "      <th>0</th>\n",
       "      <td>Success</td>\n",
       "      <td>2376712</td>\n",
       "    </tr>\n",
       "    <tr>\n",
       "      <th>1</th>\n",
       "      <td>404</td>\n",
       "      <td>274107</td>\n",
       "    </tr>\n",
       "    <tr>\n",
       "      <th>2</th>\n",
       "      <td>410</td>\n",
       "      <td>101641</td>\n",
       "    </tr>\n",
       "    <tr>\n",
       "      <th>3</th>\n",
       "      <td>403</td>\n",
       "      <td>20556</td>\n",
       "    </tr>\n",
       "    <tr>\n",
       "      <th>4</th>\n",
       "      <td>HTTPSConnectio</td>\n",
       "      <td>12406</td>\n",
       "    </tr>\n",
       "  </tbody>\n",
       "</table>\n",
       "</div>"
      ],
      "text/plain": [
       "           status  status_count\n",
       "0  Success         2376712     \n",
       "1  404             274107      \n",
       "2  410             101641      \n",
       "3  403             20556       \n",
       "4  HTTPSConnectio  12406       "
      ]
     },
     "execution_count": 9,
     "metadata": {},
     "output_type": "execute_result"
    }
   ],
   "source": [
    "query = \"\"\"SELECT left(crawling_status, 14) AS status, count(left(crawling_status, 14)) AS status_count \n",
    "            FROM articles GROUP BY status ORDER BY status_count DESC\"\"\"\n",
    "df = pd.read_sql_query(query, conn)\n",
    "df.head()"
   ]
  },
  {
   "cell_type": "code",
   "execution_count": 44,
   "metadata": {},
   "outputs": [
    {
     "data": {
      "image/png": "[encoded data removed]",
      "text/plain": [
       "<Figure size 432x288 with 1 Axes>"
      ]
     },
     "metadata": {},
     "output_type": "display_data"
    }
   ],
   "source": [
    "# We want the top 4 and all others summarized\n",
    "values = list(df[\"status_count\"][:4]) + [sum(df[\"status_count\"][5:])]\n",
    "statuses = list(df[\"status\"][:4]) + [\"Other\"] \n",
    "labels = [\"%s (%.2f%%)\" % (status, value / sum(values) * 100) for value,status in zip(values,statuses)]\n",
    "patches, texts = plt.pie(values, colors=['green', '#ff0000', '#dd0000', '#bb0000', '#990000'])\n",
    "plt.legend(patches, labels, loc=\"best\")\n",
    "# Set aspect ratio to be equal so that pie is drawn as a circle.\n",
    "plt.axis('equal')\n",
    "plt.savefig(os.environ['FIGURES_PATH'] + \"crawling_status.pdf\", format=\"pdf\")\n",
    "plt.show()"
   ]
  },
  {
   "cell_type": "code",
   "execution_count": null,
   "metadata": {},
   "outputs": [],
   "source": []
  },
  {
   "cell_type": "markdown",
   "metadata": {},
   "source": [
    "## Number of pages with relevant videos by number of videos (from 3112)"
   ]
  },
  {
   "cell_type": "code",
   "execution_count": 5,
   "metadata": {},
   "outputs": [
    {
     "data": {
      "text/html": [
       "<div>\n",
       "<style scoped>\n",
       "    .dataframe tbody tr th:only-of-type {\n",
       "        vertical-align: middle;\n",
       "    }\n",
       "\n",
       "    .dataframe tbody tr th {\n",
       "        vertical-align: top;\n",
       "    }\n",
       "\n",
       "    .dataframe thead th {\n",
       "        text-align: right;\n",
       "    }\n",
       "</style>\n",
       "<table border=\"1\" class=\"dataframe\">\n",
       "  <thead>\n",
       "    <tr style=\"text-align: right;\">\n",
       "      <th></th>\n",
       "      <th>website_url</th>\n",
       "      <th>video_count</th>\n",
       "    </tr>\n",
       "  </thead>\n",
       "  <tbody>\n",
       "    <tr>\n",
       "      <th>2496</th>\n",
       "      <td>https://www.iranfocus.com/en/index.php?option=com_content&amp;view=article&amp;id=32844:panel-discussion-on-iran-irgc-and-sanctions&amp;catid=9&amp;Itemid=114</td>\n",
       "      <td>20</td>\n",
       "    </tr>\n",
       "    <tr>\n",
       "      <th>2497</th>\n",
       "      <td>https://www.iranfocus.com/en/index.php?option=com_content&amp;view=article&amp;id=32844:panel-discussion-on-iran-irgc-and-sanctions&amp;catid=9:terrorism&amp;Itemid=114</td>\n",
       "      <td>20</td>\n",
       "    </tr>\n",
       "    <tr>\n",
       "      <th>2498</th>\n",
       "      <td>https://www.iranfocus.com/en/index.php?option=com_content&amp;view=article&amp;id=32845:united-states-is-focused-on-iran-threat&amp;catid=4&amp;Itemid=109</td>\n",
       "      <td>20</td>\n",
       "    </tr>\n",
       "    <tr>\n",
       "      <th>2499</th>\n",
       "      <td>https://www.iranfocus.com/en/index.php?option=com_content&amp;view=article&amp;id=32845:united-states-is-focused-on-iran-threat&amp;catid=4:iran-general&amp;Itemid=109</td>\n",
       "      <td>20</td>\n",
       "    </tr>\n",
       "    <tr>\n",
       "      <th>2500</th>\n",
       "      <td>https://www.iranfocus.com/en/index.php?option=com_content&amp;view=article&amp;id=32846:iran-trying-to-subvert-us-sanctions&amp;catid=8&amp;Itemid=124</td>\n",
       "      <td>20</td>\n",
       "    </tr>\n",
       "    <tr>\n",
       "      <th>2501</th>\n",
       "      <td>https://www.iranfocus.com/en/index.php?option=com_content&amp;view=article&amp;id=32846:iran-trying-to-subvert-us-sanctions&amp;catid=8:nuclear&amp;Itemid=124</td>\n",
       "      <td>20</td>\n",
       "    </tr>\n",
       "    <tr>\n",
       "      <th>2502</th>\n",
       "      <td>https://www.iranfocus.com/en/index.php?option=com_content&amp;view=article&amp;id=32847:iran-opposition-s-position-grows-stronger-with-support-from-us-administration&amp;catid=4&amp;Itemid=109</td>\n",
       "      <td>20</td>\n",
       "    </tr>\n",
       "    <tr>\n",
       "      <th>2503</th>\n",
       "      <td>https://www.iranfocus.com/en/index.php?option=com_content&amp;view=article&amp;id=32847:iran-opposition-s-position-grows-stronger-with-support-from-us-administration&amp;catid=4:iran-general&amp;Itemid=109</td>\n",
       "      <td>20</td>\n",
       "    </tr>\n",
       "    <tr>\n",
       "      <th>2504</th>\n",
       "      <td>https://www.iranfocus.com/en/index.php?option=com_content&amp;view=article&amp;id=32849:iran-the-129-people-arrested-in-grand-bazaar-protests-will-not-be-released-soon&amp;catid=5&amp;Itemid=110</td>\n",
       "      <td>20</td>\n",
       "    </tr>\n",
       "    <tr>\n",
       "      <th>2505</th>\n",
       "      <td>https://www.iranfocus.com/en/index.php?option=com_content&amp;view=article&amp;id=32849:iran-the-129-people-arrested-in-grand-bazaar-protests-will-not-be-released-soon&amp;catid=5:human-rights&amp;Itemid=110</td>\n",
       "      <td>20</td>\n",
       "    </tr>\n",
       "    <tr>\n",
       "      <th>2506</th>\n",
       "      <td>https://www.iranfocus.com/en/index.php?option=com_content&amp;view=article&amp;id=32851:us-campaign-to-pressure-iran-into-new-nuclear-deal&amp;catid=8:nuclear&amp;Itemid=124</td>\n",
       "      <td>20</td>\n",
       "    </tr>\n",
       "  </tbody>\n",
       "</table>\n",
       "</div>"
      ],
      "text/plain": [
       "                                                                                                                                                                                          website_url  \\\n",
       "2496  https://www.iranfocus.com/en/index.php?option=com_content&view=article&id=32844:panel-discussion-on-iran-irgc-and-sanctions&catid=9&Itemid=114                                                    \n",
       "2497  https://www.iranfocus.com/en/index.php?option=com_content&view=article&id=32844:panel-discussion-on-iran-irgc-and-sanctions&catid=9:terrorism&Itemid=114                                          \n",
       "2498  https://www.iranfocus.com/en/index.php?option=com_content&view=article&id=32845:united-states-is-focused-on-iran-threat&catid=4&Itemid=109                                                        \n",
       "2499  https://www.iranfocus.com/en/index.php?option=com_content&view=article&id=32845:united-states-is-focused-on-iran-threat&catid=4:iran-general&Itemid=109                                           \n",
       "2500  https://www.iranfocus.com/en/index.php?option=com_content&view=article&id=32846:iran-trying-to-subvert-us-sanctions&catid=8&Itemid=124                                                            \n",
       "2501  https://www.iranfocus.com/en/index.php?option=com_content&view=article&id=32846:iran-trying-to-subvert-us-sanctions&catid=8:nuclear&Itemid=124                                                    \n",
       "2502  https://www.iranfocus.com/en/index.php?option=com_content&view=article&id=32847:iran-opposition-s-position-grows-stronger-with-support-from-us-administration&catid=4&Itemid=109                  \n",
       "2503  https://www.iranfocus.com/en/index.php?option=com_content&view=article&id=32847:iran-opposition-s-position-grows-stronger-with-support-from-us-administration&catid=4:iran-general&Itemid=109     \n",
       "2504  https://www.iranfocus.com/en/index.php?option=com_content&view=article&id=32849:iran-the-129-people-arrested-in-grand-bazaar-protests-will-not-be-released-soon&catid=5&Itemid=110                \n",
       "2505  https://www.iranfocus.com/en/index.php?option=com_content&view=article&id=32849:iran-the-129-people-arrested-in-grand-bazaar-protests-will-not-be-released-soon&catid=5:human-rights&Itemid=110   \n",
       "2506  https://www.iranfocus.com/en/index.php?option=com_content&view=article&id=32851:us-campaign-to-pressure-iran-into-new-nuclear-deal&catid=8:nuclear&Itemid=124                                     \n",
       "\n",
       "      video_count  \n",
       "2496  20           \n",
       "2497  20           \n",
       "2498  20           \n",
       "2499  20           \n",
       "2500  20           \n",
       "2501  20           \n",
       "2502  20           \n",
       "2503  20           \n",
       "2504  20           \n",
       "2505  20           \n",
       "2506  20           "
      ]
     },
     "execution_count": 5,
     "metadata": {},
     "output_type": "execute_result"
    }
   ],
   "source": [
    "df[df[\"video_count\"] == 20].head(20)"
   ]
  },
  {
   "cell_type": "markdown",
   "metadata": {},
   "source": [
    "- 20: 0/11 (iranfocus.com)\n",
    "- 18: 0/1 (drleonardcoldwell.com)\n",
    "- 14: 3/3 (those are lists)\n",
    "- 10: 5/5 (also lists)\n",
    "- 9: 2/2 (also lists)\n",
    "- 8: 2/14 (sunatimes.com , www.critiqueecho.com have related videos on the side)\n",
    "- 7: 1.5/8 (www.evwind.es has related videos on the side)\n",
    "- 6: 13/30 (www.acp.int, www.c-mw.net, www.gurtong.net, www.mymcmedia.org (2/3), hiphopnc.com, ipowerrichmond.com, theconservativetreehouse.com allows it in comments)\n",
    "- 5: /22\n",
    "- 2: (asiatoday.com/\n",
    "- 1: (subset of 20) 13/20 (adelove.com, allafrica.com)\n",
    "\n",
    "We have to more sophisticated analysis to figure out which videos are actually relevant to the article vs. which are in some sidebar etc."
   ]
  },
  {
   "cell_type": "markdown",
   "metadata": {},
   "source": [
    "###  Lets look at number of articles from that host, average number of videos as well as variance in number of videos."
   ]
  },
  {
   "cell_type": "code",
   "execution_count": 6,
   "metadata": {},
   "outputs": [
    {
     "data": {
      "text/html": [
       "<div>\n",
       "<style scoped>\n",
       "    .dataframe tbody tr th:only-of-type {\n",
       "        vertical-align: middle;\n",
       "    }\n",
       "\n",
       "    .dataframe tbody tr th {\n",
       "        vertical-align: top;\n",
       "    }\n",
       "\n",
       "    .dataframe thead th {\n",
       "        text-align: right;\n",
       "    }\n",
       "</style>\n",
       "<table border=\"1\" class=\"dataframe\">\n",
       "  <thead>\n",
       "    <tr style=\"text-align: right;\">\n",
       "      <th></th>\n",
       "      <th>hostname</th>\n",
       "      <th>count</th>\n",
       "      <th>sum</th>\n",
       "      <th>mean</th>\n",
       "      <th>std</th>\n",
       "    </tr>\n",
       "  </thead>\n",
       "  <tbody>\n",
       "    <tr>\n",
       "      <th>538</th>\n",
       "      <td>www.cagesideseats.com</td>\n",
       "      <td>2</td>\n",
       "      <td>4</td>\n",
       "      <td>2.0</td>\n",
       "      <td>0.0</td>\n",
       "    </tr>\n",
       "    <tr>\n",
       "      <th>643</th>\n",
       "      <td>www.fbc.com.fj</td>\n",
       "      <td>16</td>\n",
       "      <td>32</td>\n",
       "      <td>2.0</td>\n",
       "      <td>0.0</td>\n",
       "    </tr>\n",
       "    <tr>\n",
       "      <th>269</th>\n",
       "      <td>northboundasia.com</td>\n",
       "      <td>2</td>\n",
       "      <td>4</td>\n",
       "      <td>2.0</td>\n",
       "      <td>0.0</td>\n",
       "    </tr>\n",
       "    <tr>\n",
       "      <th>611</th>\n",
       "      <td>www.eglobaltravelmedia.com.au</td>\n",
       "      <td>5</td>\n",
       "      <td>10</td>\n",
       "      <td>2.0</td>\n",
       "      <td>0.0</td>\n",
       "    </tr>\n",
       "    <tr>\n",
       "      <th>574</th>\n",
       "      <td>www.critiqueecho.com</td>\n",
       "      <td>3</td>\n",
       "      <td>24</td>\n",
       "      <td>8.0</td>\n",
       "      <td>0.0</td>\n",
       "    </tr>\n",
       "  </tbody>\n",
       "</table>\n",
       "</div>"
      ],
      "text/plain": [
       "                          hostname  count  sum  mean  std\n",
       "538  www.cagesideseats.com          2      4    2.0   0.0\n",
       "643  www.fbc.com.fj                 16     32   2.0   0.0\n",
       "269  northboundasia.com             2      4    2.0   0.0\n",
       "611  www.eglobaltravelmedia.com.au  5      10   2.0   0.0\n",
       "574  www.critiqueecho.com           3      24   8.0   0.0"
      ]
     },
     "execution_count": 6,
     "metadata": {},
     "output_type": "execute_result"
    }
   ],
   "source": [
    "df['hostname'] = [urlparse(url).hostname for url in df['website_url']]\n",
    "analysis = df.groupby(['hostname']).agg(['count', 'sum', 'mean', 'std']).reset_index()\n",
    "analysis.columns = ['hostname', 'count', 'sum', 'mean', 'std']\n",
    "analysis[analysis['count'] < analysis['sum']].sort_values(['std'], ascending=True).head()"
   ]
  },
  {
   "cell_type": "markdown",
   "metadata": {},
   "source": [
    "**This can be used to train a classifier.**"
   ]
  },
  {
   "cell_type": "code",
   "execution_count": null,
   "metadata": {},
   "outputs": [],
   "source": []
  }
 ],
 "metadata": {
  "kernelspec": {
   "display_name": "Python 3",
   "language": "python",
   "name": "python3"
  },
  "language_info": {
   "codemirror_mode": {
    "name": "ipython",
    "version": 3
   },
   "file_extension": ".py",
   "mimetype": "text/x-python",
   "name": "python",
   "nbconvert_exporter": "python",
   "pygments_lexer": "ipython3",
   "version": "3.7.0"
  }
 },
 "nbformat": 4,
 "nbformat_minor": 2
}
