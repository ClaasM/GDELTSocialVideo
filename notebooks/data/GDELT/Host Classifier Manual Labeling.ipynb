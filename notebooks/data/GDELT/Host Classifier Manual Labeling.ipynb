{
 "cells": [
  {
   "cell_type": "markdown",
   "metadata": {},
   "source": [
    "# Manual labeling of randomly sampled hosts\n",
    "Choose 100 hosts at random, at for each host, see if its articles have only relevant videos, meaning no \"recommended videos\" or something like that in the sidebar."
   ]
  },
  {
   "cell_type": "code",
   "execution_count": 195,
   "metadata": {},
   "outputs": [
    {
     "name": "stdout",
     "output_type": "stream",
     "text": [
      "The autoreload extension is already loaded. To reload it, use:\n",
      "  %reload_ext autoreload\n"
     ]
    }
   ],
   "source": [
    "import pandas as pd\n",
    "import numpy as np\n",
    "import os\n",
    "import pickle\n",
    "import sqlite3\n",
    "from urllib.parse import urlparse\n",
    "%load_ext autoreload\n",
    "%autoreload 2\n",
    "\n",
    "import matplotlib.pyplot as plt\n",
    "\n",
    "from src import util"
   ]
  },
  {
   "cell_type": "code",
   "execution_count": 49,
   "metadata": {},
   "outputs": [],
   "source": [
    "# Read from sqlite, extract and group by host, filter, aggregate, save to file.\n",
    "# This should be greatly simplified once we work with the whole dataset.\n",
    "conn = sqlite3.connect(os.environ[\"DATA_PATH\"] + '/interim/GDELT_20180731.db')\n",
    "pd.set_option('display.max_colwidth', -1)\n",
    "query = \"SELECT website_url, count(website_url) AS video_count FROM found_videos GROUP BY website_url;\"\n",
    "df = pd.read_sql_query(query, conn)\n",
    "df['hostname'] = [urlparse(url).hostname for url in df['website_url']]\n",
    "analysis = df.groupby(['hostname']).agg(['count', 'sum', 'mean', 'std']).reset_index()\n",
    "sample = analysis[analysis[\"count\"] > 1].sample(100) # This leaves only 416/1148 TODO how many in the whole dataset?\n",
    "sample.to_csv(os.environ[\"DATA_PATH\"] + '/interim/sample100_%d.csv' % time.time(), index=False)"
   ]
  },
  {
   "cell_type": "code",
   "execution_count": 204,
   "metadata": {},
   "outputs": [
    {
     "data": {
      "text/html": [
       "<div>\n",
       "<style scoped>\n",
       "    .dataframe tbody tr th:only-of-type {\n",
       "        vertical-align: middle;\n",
       "    }\n",
       "\n",
       "    .dataframe tbody tr th {\n",
       "        vertical-align: top;\n",
       "    }\n",
       "\n",
       "    .dataframe thead th {\n",
       "        text-align: right;\n",
       "    }\n",
       "</style>\n",
       "<table border=\"1\" class=\"dataframe\">\n",
       "  <thead>\n",
       "    <tr style=\"text-align: right;\">\n",
       "      <th></th>\n",
       "      <th>hostname</th>\n",
       "      <th>count</th>\n",
       "      <th>sum</th>\n",
       "      <th>mean</th>\n",
       "      <th>std</th>\n",
       "    </tr>\n",
       "  </thead>\n",
       "  <tbody>\n",
       "    <tr>\n",
       "      <th>0</th>\n",
       "      <td>patch.com</td>\n",
       "      <td>3</td>\n",
       "      <td>3</td>\n",
       "      <td>1.0</td>\n",
       "      <td>0.000000</td>\n",
       "    </tr>\n",
       "    <tr>\n",
       "      <th>1</th>\n",
       "      <td>townhall.com</td>\n",
       "      <td>2</td>\n",
       "      <td>2</td>\n",
       "      <td>1.0</td>\n",
       "      <td>0.000000</td>\n",
       "    </tr>\n",
       "    <tr>\n",
       "      <th>2</th>\n",
       "      <td>thepointsguy.com</td>\n",
       "      <td>2</td>\n",
       "      <td>2</td>\n",
       "      <td>1.0</td>\n",
       "      <td>0.000000</td>\n",
       "    </tr>\n",
       "    <tr>\n",
       "      <th>3</th>\n",
       "      <td>www.breitbart.com</td>\n",
       "      <td>7</td>\n",
       "      <td>7</td>\n",
       "      <td>1.0</td>\n",
       "      <td>0.000000</td>\n",
       "    </tr>\n",
       "    <tr>\n",
       "      <th>4</th>\n",
       "      <td>www.cairoscene.com</td>\n",
       "      <td>2</td>\n",
       "      <td>10</td>\n",
       "      <td>5.0</td>\n",
       "      <td>5.656854</td>\n",
       "    </tr>\n",
       "  </tbody>\n",
       "</table>\n",
       "</div>"
      ],
      "text/plain": [
       "             hostname  count  sum  mean       std\n",
       "0  patch.com           3      3    1.0   0.000000\n",
       "1  townhall.com        2      2    1.0   0.000000\n",
       "2  thepointsguy.com    2      2    1.0   0.000000\n",
       "3  www.breitbart.com   7      7    1.0   0.000000\n",
       "4  www.cairoscene.com  2      10   5.0   5.656854"
      ]
     },
     "execution_count": 204,
     "metadata": {},
     "output_type": "execute_result"
    }
   ],
   "source": [
    "# Read from file \n",
    "filename = 'sample100_1535986839.csv'\n",
    "sample = pd.read_csv(os.environ[\"DATA_PATH\"] + '/interim/%s' % filename)\n",
    "sample.head()"
   ]
  },
  {
   "cell_type": "code",
   "execution_count": 198,
   "metadata": {},
   "outputs": [
    {
     "name": "stdout",
     "output_type": "stream",
     "text": [
      "02: http://leaderpost.com/news/local-news/they-speak-the-truth-allies-show-support-at-protest-camp-powwow\n",
      "01: http://leaderpost.com/news/stephen-harper-criticized-for-speaking-at-anti-iran-event-hosted-by-cult-former-terrorist-group/wcm/e343c486-507b-4067-a67b-782bc91526bd\n",
      "01: http://leaderpost.com/news/world/cruise-ship-worker-rescued-22-hours-after-going-overboard-by-another-cruise-ship/wcm/aad26adf-4469-4323-8e17-8c82def086ed\n"
     ]
    }
   ],
   "source": [
    "# Classify\n",
    "videos_relevant = [True, True, True, True, True, True, True, True, True, False,\\\n",
    "                  True, False, True, True, True, True, False, True, True, True,\\\n",
    "                  True, True, True, True, True, False, False, False, True, False,\\\n",
    "                  False,False, False, True, True, True, True, True, False, True,\\\n",
    "                  True, True, False, False, False, True, False, False, True, True,\\\n",
    "                  False, True, True, False, False, True, False, False, True, True,\\\n",
    "                  False, False, True, False, True, True, True, True, True, True,\\\n",
    "                  False, False, True, False, False, True, False, False, False, True,\\\n",
    "                  True, True, True, True, False, True, False, False, True, True,\n",
    "                  True, True, False, True, False, False, False, True, False, True]\n",
    "index = 99\n",
    "for index, row in df[df[\"hostname\"] == sample.iloc[index][0]].iterrows():\n",
    "    print(\"%02d: %s\" % (row['video_count'], row['website_url']))"
   ]
  },
  {
   "cell_type": "code",
   "execution_count": 201,
   "metadata": {},
   "outputs": [],
   "source": [
    "# Save the labels to file\n",
    "pickle.dump(videos_relevant, open(os.environ[\"DATA_PATH\"] + '/interim/%s.labels' % filename, \"wb+\"))"
   ]
  },
  {
   "cell_type": "markdown",
   "metadata": {},
   "source": [
    "## TODO\n",
    "- Make this an application\n",
    "- Safety Validation of manual labels to reveal mistakes made\n",
    "- Use integers instead of Bools to allow for more distinction of reason (e.g. allows comments containing videos (relevance cannot be guaranteed), Sidebar)\n",
    "- Use whole dataset (not just those that have count > 1 from the subset of 1148)"
   ]
  },
  {
   "cell_type": "code",
   "execution_count": null,
   "metadata": {},
   "outputs": [],
   "source": []
  }
 ],
 "metadata": {
  "kernelspec": {
   "display_name": "Python 3",
   "language": "python",
   "name": "python3"
  },
  "language_info": {
   "codemirror_mode": {
    "name": "ipython",
    "version": 3
   },
   "file_extension": ".py",
   "mimetype": "text/x-python",
   "name": "python",
   "nbconvert_exporter": "python",
   "pygments_lexer": "ipython3",
   "version": "3.7.0"
  }
 },
 "nbformat": 4,
 "nbformat_minor": 2
}
