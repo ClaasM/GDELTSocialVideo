{
 "cells": [
  {
   "cell_type": "markdown",
   "metadata": {},
   "source": [
    "Try for 100 random articles from...\n",
    "- all the articles\n",
    "- GDELT\n",
    "- etc. "
   ]
  },
  {
   "cell_type": "code",
   "execution_count": 9,
   "metadata": {},
   "outputs": [
    {
     "data": {
      "text/html": [
       "<div>\n",
       "<style scoped>\n",
       "    .dataframe tbody tr th:only-of-type {\n",
       "        vertical-align: middle;\n",
       "    }\n",
       "\n",
       "    .dataframe tbody tr th {\n",
       "        vertical-align: top;\n",
       "    }\n",
       "\n",
       "    .dataframe thead th {\n",
       "        text-align: right;\n",
       "    }\n",
       "</style>\n",
       "<table border=\"1\" class=\"dataframe\">\n",
       "  <thead>\n",
       "    <tr style=\"text-align: right;\">\n",
       "      <th></th>\n",
       "      <th>DATE</th>\n",
       "      <th>DocumentIdentifier</th>\n",
       "      <th>ImageURL</th>\n",
       "      <th>RawJSON</th>\n",
       "    </tr>\n",
       "  </thead>\n",
       "  <tbody>\n",
       "    <tr>\n",
       "      <th>0</th>\n",
       "      <td>20160307200000</td>\n",
       "      <td>http://sputniknews.com/us/20160307/1035926176/...</td>\n",
       "      <td>http://cdn2.img.sputniknews.com/images/103268/...</td>\n",
       "      <td>{ \"responses\": [ { \"faceAnnotations\": [ { \"bou...</td>\n",
       "    </tr>\n",
       "    <tr>\n",
       "      <th>1</th>\n",
       "      <td>20160318080000</td>\n",
       "      <td>http://sverigesradio.se/sida/artikel.aspx?prog...</td>\n",
       "      <td>http://sverigesradio.se/sida/images/1646/36601...</td>\n",
       "      <td>{ \"responses\": [ { \"labelAnnotations\": [ { \"mi...</td>\n",
       "    </tr>\n",
       "    <tr>\n",
       "      <th>2</th>\n",
       "      <td>20160318080000</td>\n",
       "      <td>http://www.ht.no/nyheter/2016/03/18/Legger-seg...</td>\n",
       "      <td>http://www.ht.no/incoming/article12288611.ece/...</td>\n",
       "      <td>{ \"responses\": [ { \"labelAnnotations\": [ { \"mi...</td>\n",
       "    </tr>\n",
       "    <tr>\n",
       "      <th>3</th>\n",
       "      <td>20160423200000</td>\n",
       "      <td>http://www.arabianewspaper.com/malayalam-news/...</td>\n",
       "      <td>http://www.arabianewspaper.com/media/selfie-pn...</td>\n",
       "      <td>{ \"responses\": [ { \"labelAnnotations\": [ { \"mi...</td>\n",
       "    </tr>\n",
       "    <tr>\n",
       "      <th>4</th>\n",
       "      <td>20160322080000</td>\n",
       "      <td>http://www.cronica.com.mx/notas/2016/951571.html</td>\n",
       "      <td>http://www.cronica.com.mx/nimagenes/4/2016-03-...</td>\n",
       "      <td>{ \"responses\": [ { \"labelAnnotations\": [ { \"mi...</td>\n",
       "    </tr>\n",
       "  </tbody>\n",
       "</table>\n",
       "</div>"
      ],
      "text/plain": [
       "             DATE                                 DocumentIdentifier  \\\n",
       "0  20160307200000  http://sputniknews.com/us/20160307/1035926176/...   \n",
       "1  20160318080000  http://sverigesradio.se/sida/artikel.aspx?prog...   \n",
       "2  20160318080000  http://www.ht.no/nyheter/2016/03/18/Legger-seg...   \n",
       "3  20160423200000  http://www.arabianewspaper.com/malayalam-news/...   \n",
       "4  20160322080000   http://www.cronica.com.mx/notas/2016/951571.html   \n",
       "\n",
       "                                            ImageURL  \\\n",
       "0  http://cdn2.img.sputniknews.com/images/103268/...   \n",
       "1  http://sverigesradio.se/sida/images/1646/36601...   \n",
       "2  http://www.ht.no/incoming/article12288611.ece/...   \n",
       "3  http://www.arabianewspaper.com/media/selfie-pn...   \n",
       "4  http://www.cronica.com.mx/nimagenes/4/2016-03-...   \n",
       "\n",
       "                                             RawJSON  \n",
       "0  { \"responses\": [ { \"faceAnnotations\": [ { \"bou...  \n",
       "1  { \"responses\": [ { \"labelAnnotations\": [ { \"mi...  \n",
       "2  { \"responses\": [ { \"labelAnnotations\": [ { \"mi...  \n",
       "3  { \"responses\": [ { \"labelAnnotations\": [ { \"mi...  \n",
       "4  { \"responses\": [ { \"labelAnnotations\": [ { \"mi...  "
      ]
     },
     "execution_count": 9,
     "metadata": {},
     "output_type": "execute_result"
    }
   ],
   "source": [
    "from gzip import GzipFile\n",
    "import pandas as pd\n",
    "import os\n",
    "\n",
    "with GzipFile('data/GDELT_VGKG/vgkg-20160427-part1.csv.gz') as gzipfile:\n",
    "    df = pd.read_csv(gzipfile, nrows=100)\n",
    "    \n",
    "df.head()"
   ]
  },
  {
   "cell_type": "code",
   "execution_count": 10,
   "metadata": {},
   "outputs": [
    {
     "name": "stdout",
     "output_type": "stream",
     "text": [
      "sputniknews.com\n",
      "sverigesradio.se\n",
      "www.ht.no\n",
      "www.arabianewspaper.com\n",
      "www.cronica.com.mx\n",
      "www.alshahedkw.com\n",
      "www.timesunion.com\n",
      "deportes.infonews.com\n",
      "www.centralwesterndaily.com.au\n",
      "www.jornaldamidia.com.br\n",
      "www.t-online.de\n",
      "newsok.com\n",
      "www.sydsvenskan.se\n",
      "www.haz.de\n",
      "www.paris-normandie.fr\n",
      "www.napi.hu\n",
      "www.sltrib.com\n",
      "english.cntv.cn\n",
      "www.auraavis.no\n",
      "congan.com.vn\n",
      "www.teknologadam.com\n",
      "www.omroepbrabant.nl\n",
      "www.alquds.com\n",
      "russian.rt.com\n",
      "stirileprotv.ro\n",
      "afamily.vn\n",
      "www.romanialibera.ro\n",
      "www.dailymail.co.uk\n",
      "www.dailymail.co.uk\n",
      "www.folkebladet.no\n",
      "el-carabobeno.com\n",
      "www.szon.hu\n",
      "www.thenational.scot\n",
      "aaj.tv\n",
      "bilbaoya.com\n",
      "www.theguardian.com\n",
      "www.sankei.com\n",
      "myslo.ru\n",
      "vietbao.vn\n",
      "suracapulco.mx\n",
      "ladiaria.com.uy\n",
      "economictimes.indiatimes.com\n",
      "oglobo.globo.com\n",
      "www.pressdemocrat.com\n",
      "nuovavenezia.gelocal.it\n",
      "www.springnews.co.th\n",
      "www.grandain.com\n",
      "www.mathrubhumi.com\n",
      "chuhal.mn\n",
      "blog.udn.com\n",
      "notizie.tiscali.it\n",
      "www.al-fadjr.com\n"
     ]
    },
    {
     "ename": "HTTPError",
     "evalue": "HTTP Error 504: Gateway Time-out",
     "output_type": "error",
     "traceback": [
      "\u001b[0;31m---------------------------------------------------------------------------\u001b[0m",
      "\u001b[0;31mHTTPError\u001b[0m                                 Traceback (most recent call last)",
      "\u001b[0;32m<ipython-input-10-92f20b9de93a>\u001b[0m in \u001b[0;36m<module>\u001b[0;34m()\u001b[0m\n\u001b[1;32m      6\u001b[0m     \u001b[0mprint\u001b[0m\u001b[0;34m(\u001b[0m\u001b[0murllib\u001b[0m\u001b[0;34m.\u001b[0m\u001b[0mrequest\u001b[0m\u001b[0;34m.\u001b[0m\u001b[0mRequest\u001b[0m\u001b[0;34m(\u001b[0m\u001b[0mdocument_identifier\u001b[0m\u001b[0;34m)\u001b[0m\u001b[0;34m.\u001b[0m\u001b[0mhost\u001b[0m\u001b[0;34m)\u001b[0m\u001b[0;34m\u001b[0m\u001b[0m\n\u001b[1;32m      7\u001b[0m     \u001b[0mreq\u001b[0m\u001b[0;34m.\u001b[0m\u001b[0madd_header\u001b[0m\u001b[0;34m(\u001b[0m\u001b[0;34m'X-Mashape-Key'\u001b[0m\u001b[0;34m,\u001b[0m \u001b[0mos\u001b[0m\u001b[0;34m.\u001b[0m\u001b[0menviron\u001b[0m\u001b[0;34m[\u001b[0m\u001b[0;34m\"MASHAPE_KEY\"\u001b[0m\u001b[0;34m]\u001b[0m\u001b[0;34m)\u001b[0m\u001b[0;34m\u001b[0m\u001b[0m\n\u001b[0;32m----> 8\u001b[0;31m     \u001b[0mresponse\u001b[0m \u001b[0;34m=\u001b[0m \u001b[0murllib\u001b[0m\u001b[0;34m.\u001b[0m\u001b[0mrequest\u001b[0m\u001b[0;34m.\u001b[0m\u001b[0murlopen\u001b[0m\u001b[0;34m(\u001b[0m\u001b[0mreq\u001b[0m\u001b[0;34m)\u001b[0m\u001b[0;34m.\u001b[0m\u001b[0mread\u001b[0m\u001b[0;34m(\u001b[0m\u001b[0;34m)\u001b[0m\u001b[0;34m\u001b[0m\u001b[0m\n\u001b[0m\u001b[1;32m      9\u001b[0m     \u001b[0mresponses\u001b[0m\u001b[0;34m.\u001b[0m\u001b[0mappend\u001b[0m\u001b[0;34m(\u001b[0m\u001b[0mresponse\u001b[0m\u001b[0;34m)\u001b[0m\u001b[0;34m\u001b[0m\u001b[0m\n",
      "\u001b[0;32m/Library/Frameworks/Python.framework/Versions/3.6/lib/python3.6/urllib/request.py\u001b[0m in \u001b[0;36murlopen\u001b[0;34m(url, data, timeout, cafile, capath, cadefault, context)\u001b[0m\n\u001b[1;32m    221\u001b[0m     \u001b[0;32melse\u001b[0m\u001b[0;34m:\u001b[0m\u001b[0;34m\u001b[0m\u001b[0m\n\u001b[1;32m    222\u001b[0m         \u001b[0mopener\u001b[0m \u001b[0;34m=\u001b[0m \u001b[0m_opener\u001b[0m\u001b[0;34m\u001b[0m\u001b[0m\n\u001b[0;32m--> 223\u001b[0;31m     \u001b[0;32mreturn\u001b[0m \u001b[0mopener\u001b[0m\u001b[0;34m.\u001b[0m\u001b[0mopen\u001b[0m\u001b[0;34m(\u001b[0m\u001b[0murl\u001b[0m\u001b[0;34m,\u001b[0m \u001b[0mdata\u001b[0m\u001b[0;34m,\u001b[0m \u001b[0mtimeout\u001b[0m\u001b[0;34m)\u001b[0m\u001b[0;34m\u001b[0m\u001b[0m\n\u001b[0m\u001b[1;32m    224\u001b[0m \u001b[0;34m\u001b[0m\u001b[0m\n\u001b[1;32m    225\u001b[0m \u001b[0;32mdef\u001b[0m \u001b[0minstall_opener\u001b[0m\u001b[0;34m(\u001b[0m\u001b[0mopener\u001b[0m\u001b[0;34m)\u001b[0m\u001b[0;34m:\u001b[0m\u001b[0;34m\u001b[0m\u001b[0m\n",
      "\u001b[0;32m/Library/Frameworks/Python.framework/Versions/3.6/lib/python3.6/urllib/request.py\u001b[0m in \u001b[0;36mopen\u001b[0;34m(self, fullurl, data, timeout)\u001b[0m\n\u001b[1;32m    530\u001b[0m         \u001b[0;32mfor\u001b[0m \u001b[0mprocessor\u001b[0m \u001b[0;32min\u001b[0m \u001b[0mself\u001b[0m\u001b[0;34m.\u001b[0m\u001b[0mprocess_response\u001b[0m\u001b[0;34m.\u001b[0m\u001b[0mget\u001b[0m\u001b[0;34m(\u001b[0m\u001b[0mprotocol\u001b[0m\u001b[0;34m,\u001b[0m \u001b[0;34m[\u001b[0m\u001b[0;34m]\u001b[0m\u001b[0;34m)\u001b[0m\u001b[0;34m:\u001b[0m\u001b[0;34m\u001b[0m\u001b[0m\n\u001b[1;32m    531\u001b[0m             \u001b[0mmeth\u001b[0m \u001b[0;34m=\u001b[0m \u001b[0mgetattr\u001b[0m\u001b[0;34m(\u001b[0m\u001b[0mprocessor\u001b[0m\u001b[0;34m,\u001b[0m \u001b[0mmeth_name\u001b[0m\u001b[0;34m)\u001b[0m\u001b[0;34m\u001b[0m\u001b[0m\n\u001b[0;32m--> 532\u001b[0;31m             \u001b[0mresponse\u001b[0m \u001b[0;34m=\u001b[0m \u001b[0mmeth\u001b[0m\u001b[0;34m(\u001b[0m\u001b[0mreq\u001b[0m\u001b[0;34m,\u001b[0m \u001b[0mresponse\u001b[0m\u001b[0;34m)\u001b[0m\u001b[0;34m\u001b[0m\u001b[0m\n\u001b[0m\u001b[1;32m    533\u001b[0m \u001b[0;34m\u001b[0m\u001b[0m\n\u001b[1;32m    534\u001b[0m         \u001b[0;32mreturn\u001b[0m \u001b[0mresponse\u001b[0m\u001b[0;34m\u001b[0m\u001b[0m\n",
      "\u001b[0;32m/Library/Frameworks/Python.framework/Versions/3.6/lib/python3.6/urllib/request.py\u001b[0m in \u001b[0;36mhttp_response\u001b[0;34m(self, request, response)\u001b[0m\n\u001b[1;32m    640\u001b[0m         \u001b[0;32mif\u001b[0m \u001b[0;32mnot\u001b[0m \u001b[0;34m(\u001b[0m\u001b[0;36m200\u001b[0m \u001b[0;34m<=\u001b[0m \u001b[0mcode\u001b[0m \u001b[0;34m<\u001b[0m \u001b[0;36m300\u001b[0m\u001b[0;34m)\u001b[0m\u001b[0;34m:\u001b[0m\u001b[0;34m\u001b[0m\u001b[0m\n\u001b[1;32m    641\u001b[0m             response = self.parent.error(\n\u001b[0;32m--> 642\u001b[0;31m                 'http', request, response, code, msg, hdrs)\n\u001b[0m\u001b[1;32m    643\u001b[0m \u001b[0;34m\u001b[0m\u001b[0m\n\u001b[1;32m    644\u001b[0m         \u001b[0;32mreturn\u001b[0m \u001b[0mresponse\u001b[0m\u001b[0;34m\u001b[0m\u001b[0m\n",
      "\u001b[0;32m/Library/Frameworks/Python.framework/Versions/3.6/lib/python3.6/urllib/request.py\u001b[0m in \u001b[0;36merror\u001b[0;34m(self, proto, *args)\u001b[0m\n\u001b[1;32m    568\u001b[0m         \u001b[0;32mif\u001b[0m \u001b[0mhttp_err\u001b[0m\u001b[0;34m:\u001b[0m\u001b[0;34m\u001b[0m\u001b[0m\n\u001b[1;32m    569\u001b[0m             \u001b[0margs\u001b[0m \u001b[0;34m=\u001b[0m \u001b[0;34m(\u001b[0m\u001b[0mdict\u001b[0m\u001b[0;34m,\u001b[0m \u001b[0;34m'default'\u001b[0m\u001b[0;34m,\u001b[0m \u001b[0;34m'http_error_default'\u001b[0m\u001b[0;34m)\u001b[0m \u001b[0;34m+\u001b[0m \u001b[0morig_args\u001b[0m\u001b[0;34m\u001b[0m\u001b[0m\n\u001b[0;32m--> 570\u001b[0;31m             \u001b[0;32mreturn\u001b[0m \u001b[0mself\u001b[0m\u001b[0;34m.\u001b[0m\u001b[0m_call_chain\u001b[0m\u001b[0;34m(\u001b[0m\u001b[0;34m*\u001b[0m\u001b[0margs\u001b[0m\u001b[0;34m)\u001b[0m\u001b[0;34m\u001b[0m\u001b[0m\n\u001b[0m\u001b[1;32m    571\u001b[0m \u001b[0;34m\u001b[0m\u001b[0m\n\u001b[1;32m    572\u001b[0m \u001b[0;31m# XXX probably also want an abstract factory that knows when it makes\u001b[0m\u001b[0;34m\u001b[0m\u001b[0;34m\u001b[0m\u001b[0m\n",
      "\u001b[0;32m/Library/Frameworks/Python.framework/Versions/3.6/lib/python3.6/urllib/request.py\u001b[0m in \u001b[0;36m_call_chain\u001b[0;34m(self, chain, kind, meth_name, *args)\u001b[0m\n\u001b[1;32m    502\u001b[0m         \u001b[0;32mfor\u001b[0m \u001b[0mhandler\u001b[0m \u001b[0;32min\u001b[0m \u001b[0mhandlers\u001b[0m\u001b[0;34m:\u001b[0m\u001b[0;34m\u001b[0m\u001b[0m\n\u001b[1;32m    503\u001b[0m             \u001b[0mfunc\u001b[0m \u001b[0;34m=\u001b[0m \u001b[0mgetattr\u001b[0m\u001b[0;34m(\u001b[0m\u001b[0mhandler\u001b[0m\u001b[0;34m,\u001b[0m \u001b[0mmeth_name\u001b[0m\u001b[0;34m)\u001b[0m\u001b[0;34m\u001b[0m\u001b[0m\n\u001b[0;32m--> 504\u001b[0;31m             \u001b[0mresult\u001b[0m \u001b[0;34m=\u001b[0m \u001b[0mfunc\u001b[0m\u001b[0;34m(\u001b[0m\u001b[0;34m*\u001b[0m\u001b[0margs\u001b[0m\u001b[0;34m)\u001b[0m\u001b[0;34m\u001b[0m\u001b[0m\n\u001b[0m\u001b[1;32m    505\u001b[0m             \u001b[0;32mif\u001b[0m \u001b[0mresult\u001b[0m \u001b[0;32mis\u001b[0m \u001b[0;32mnot\u001b[0m \u001b[0;32mNone\u001b[0m\u001b[0;34m:\u001b[0m\u001b[0;34m\u001b[0m\u001b[0m\n\u001b[1;32m    506\u001b[0m                 \u001b[0;32mreturn\u001b[0m \u001b[0mresult\u001b[0m\u001b[0;34m\u001b[0m\u001b[0m\n",
      "\u001b[0;32m/Library/Frameworks/Python.framework/Versions/3.6/lib/python3.6/urllib/request.py\u001b[0m in \u001b[0;36mhttp_error_default\u001b[0;34m(self, req, fp, code, msg, hdrs)\u001b[0m\n\u001b[1;32m    648\u001b[0m \u001b[0;32mclass\u001b[0m \u001b[0mHTTPDefaultErrorHandler\u001b[0m\u001b[0;34m(\u001b[0m\u001b[0mBaseHandler\u001b[0m\u001b[0;34m)\u001b[0m\u001b[0;34m:\u001b[0m\u001b[0;34m\u001b[0m\u001b[0m\n\u001b[1;32m    649\u001b[0m     \u001b[0;32mdef\u001b[0m \u001b[0mhttp_error_default\u001b[0m\u001b[0;34m(\u001b[0m\u001b[0mself\u001b[0m\u001b[0;34m,\u001b[0m \u001b[0mreq\u001b[0m\u001b[0;34m,\u001b[0m \u001b[0mfp\u001b[0m\u001b[0;34m,\u001b[0m \u001b[0mcode\u001b[0m\u001b[0;34m,\u001b[0m \u001b[0mmsg\u001b[0m\u001b[0;34m,\u001b[0m \u001b[0mhdrs\u001b[0m\u001b[0;34m)\u001b[0m\u001b[0;34m:\u001b[0m\u001b[0;34m\u001b[0m\u001b[0m\n\u001b[0;32m--> 650\u001b[0;31m         \u001b[0;32mraise\u001b[0m \u001b[0mHTTPError\u001b[0m\u001b[0;34m(\u001b[0m\u001b[0mreq\u001b[0m\u001b[0;34m.\u001b[0m\u001b[0mfull_url\u001b[0m\u001b[0;34m,\u001b[0m \u001b[0mcode\u001b[0m\u001b[0;34m,\u001b[0m \u001b[0mmsg\u001b[0m\u001b[0;34m,\u001b[0m \u001b[0mhdrs\u001b[0m\u001b[0;34m,\u001b[0m \u001b[0mfp\u001b[0m\u001b[0;34m)\u001b[0m\u001b[0;34m\u001b[0m\u001b[0m\n\u001b[0m\u001b[1;32m    651\u001b[0m \u001b[0;34m\u001b[0m\u001b[0m\n\u001b[1;32m    652\u001b[0m \u001b[0;32mclass\u001b[0m \u001b[0mHTTPRedirectHandler\u001b[0m\u001b[0;34m(\u001b[0m\u001b[0mBaseHandler\u001b[0m\u001b[0;34m)\u001b[0m\u001b[0;34m:\u001b[0m\u001b[0;34m\u001b[0m\u001b[0m\n",
      "\u001b[0;31mHTTPError\u001b[0m: HTTP Error 504: Gateway Time-out"
     ]
    }
   ],
   "source": [
    "import urllib\n",
    "import json\n",
    "responses = list()\n",
    "for index, (data, document_identifier, image_url, raw_json) in df.iterrows():\n",
    "    url = 'https://getvideo.p.mashape.com/?' + urllib.parse.urlencode({\"url\":document_identifier})\n",
    "    req = urllib.request.Request(url)\n",
    "    print(urllib.request.Request(document_identifier).host)\n",
    "    req.add_header('X-Mashape-Key', os.environ[\"MASHAPE_KEY\"])\n",
    "    try:\n",
    "        response = json.loads(urllib.request.urlopen(req).read())\n",
    "    except e:\n",
    "        response = {\"status\":False,\"message\":\"Crawler caught Exception: %s\" % e}\n",
    "    responses.append(response)"
   ]
  },
  {
   "cell_type": "code",
   "execution_count": 93,
   "metadata": {},
   "outputs": [
    {
     "data": {
      "text/plain": [
       "51"
      ]
     },
     "execution_count": 93,
     "metadata": {},
     "output_type": "execute_result"
    }
   ],
   "source": [
    "len(responses)"
   ]
  },
  {
   "cell_type": "code",
   "execution_count": 52,
   "metadata": {},
   "outputs": [],
   "source": [
    "# write the result to a file. Name format is <key of first row>-<key of last row>\n",
    "import pickle\n",
    "result_path = \"data/GDELT_VGKG/preprocessed/video_json/%s-%s\" % (int(df.iloc[[0]].DATE), int(df.iloc[[len(responses) - 1]].DATE))\n",
    "file = open(result_path, \"wb+\")\n",
    "pickle.dump(responses, file) # Date is unique(?) TODO find out"
   ]
  },
  {
   "cell_type": "code",
   "execution_count": 53,
   "metadata": {},
   "outputs": [
    {
     "data": {
      "text/plain": [
       "'data/GDELT_VGKG/preprocessed/video_json/20160307200000-20160404160000'"
      ]
     },
     "execution_count": 53,
     "metadata": {},
     "output_type": "execute_result"
    }
   ],
   "source": [
    "result_path"
   ]
  },
  {
   "cell_type": "code",
   "execution_count": 95,
   "metadata": {},
   "outputs": [
    {
     "data": {
      "text/plain": [
       "'20160307200000'"
      ]
     },
     "execution_count": 95,
     "metadata": {},
     "output_type": "execute_result"
    }
   ],
   "source": [
    "str(int(df.iloc[[0]].DATE))"
   ]
  },
  {
   "cell_type": "code",
   "execution_count": 55,
   "metadata": {},
   "outputs": [
    {
     "name": "stdout",
     "output_type": "stream",
     "text": [
      "2,2,2,2,2,2,2,2,2,2,6,2,2,2,2,2,2,13,2,6,2,2,2,2,2,2,2,6,2,2,6,2,2,2,2,2,2,2,2,2,2,2,6,2,2,2,2,2,2,2,2,"
     ]
    }
   ],
   "source": [
    "for response in responses:\n",
    "    print(len(response.keys()), end=\",\")"
   ]
  },
  {
   "cell_type": "code",
   "execution_count": 99,
   "metadata": {},
   "outputs": [
    {
     "data": {
      "text/plain": [
       "6"
      ]
     },
     "execution_count": 99,
     "metadata": {},
     "output_type": "execute_result"
    }
   ],
   "source": [
    "interesting_responses = [response for response in responses if response[\"status\"]]\n",
    "len(interesting_responses)\n",
    "# 6/51 (more than 10%!) have videos embedded"
   ]
  },
  {
   "cell_type": "code",
   "execution_count": 89,
   "metadata": {},
   "outputs": [
    {
     "data": {
      "text/html": [
       "<div id=\"f22d651a-3b6a-4a66-8aeb-f236037985a6\" style=\"height: 600px; width:100%;\"></div>"
      ]
     },
     "metadata": {},
     "output_type": "display_data"
    },
    {
     "data": {
      "application/javascript": [
       "\n",
       "        require([\"https://rawgit.com/caldwell/renderjson/master/renderjson.js\"], function() {\n",
       "        document.getElementById('f22d651a-3b6a-4a66-8aeb-f236037985a6').appendChild(renderjson({\"status\": true, \"message\": \"Successfully received playlist.\", \"site\": \"GloboArticle\", \"title\": \"T\\u00fanel da Via Expressa j\\u00e1 est\\u00e1 com 96,5% das obras conclu\\u00eddas\", \"is_playlist\": true, \"playlist_items\": []}))\n",
       "        });\n",
       "        "
      ]
     },
     "metadata": {},
     "output_type": "display_data"
    }
   ],
   "source": [
    "RenderJSON(interesting_responses[5])"
   ]
  },
  {
   "cell_type": "code",
   "execution_count": 103,
   "metadata": {},
   "outputs": [
    {
     "name": "stdout",
     "output_type": "stream",
     "text": [
      "http://sputniknews.com/us/20160307/1035926176/trump-ties-racist-mobster.html: Failed\n",
      "http://sverigesradio.se/sida/artikel.aspx?programid=1646&artikel=6392188: Failed\n",
      "http://www.ht.no/nyheter/2016/03/18/Legger-seg-flat-etter-at-Alf-fant-denne-gjenstanden-i-maten-12320366.ece: Failed\n",
      "http://www.arabianewspaper.com/malayalam-news/read/13990/narrow-escape-for-youth-who-tried-selfie-with-temple-tusker/.B-N: Failed\n",
      "http://www.cronica.com.mx/notas/2016/951571.html: Failed\n",
      "http://www.alshahedkw.com/index.php?option=com_content&view=article&id=148662:2016-03-15-17-33-23&catid=481:09&Itemid=551: Failed\n",
      "http://www.timesunion.com/entertainment/celebrities/article/Here-are-some-of-the-hottest-models-over-40-7224564.php: Failed\n",
      "http://deportes.infonews.com/nota/286770/las-cinco-casacas-mas-polemicas-de-los: Failed\n",
      "http://www.centralwesterndaily.com.au/story/3836753/police-crack-down-on-outlaw-motorcyle-clubs-in-orange-and-the-central-west/?cs=4076: Failed\n",
      "http://www.jornaldamidia.com.br/2016/02/14/klebber-toledo-fala-sobre-beijo-em-monica-iozzi-ela-e-linda/: Failed\n",
      "http://www.t-online.de/nachrichten/deutschland/gesellschaft/id_77427712/hans-dietrich-genscher-ist-tot-frueherer-aussenminister-wurde-89.html: success\n",
      "http://newsok.com/companies-reconsidering-north-carolina-over-lgbt-rights/article/feed/991701: Failed\n",
      "http://www.sydsvenskan.se/omkretsen/lomma/avsparrat-efter-kolmonoxidexplosion/: Failed\n",
      "http://www.haz.de/Freizeit/Reisen/Rund-um-die-Welt/Ein-furchtloses-Paar-Pakistans-Lieblingstouristen: Failed\n",
      "http://www.paris-normandie.fr/detail_communes/articles/5505126/region/basket-ball-pro-b--l-alm-evreux-doit-reagir-pour-ne-pas-tout-gacher: Failed\n",
      "http://www.napi.hu/magyar_vallalatok/meghokkento_terv_szuletett_kegyetlenul_kiszurnanak_a_magyar_autosokkal.612933.html: Failed\n",
      "http://www.sltrib.com/home/3765607-156/salt-lake-citys-new-mayor-may: Failed\n",
      "http://english.cntv.cn/2016/02/18/VIDE1NP2zyftn3o5msu1vTyw160218.shtml: success\n",
      "http://www.auraavis.no/nyhet/tingvoll/bankvirksomhet/34-onsker-gave-fra-sparebankstiftelsen/s/5-5-42173: Failed\n",
      "http://congan.com.vn/tin-chinh/chinh-tri-thoi-su/phong-trao-toan-dan-bao-ve-an-ninh-to-quoc-dat-nhieu-ket-qua-kha-quan_17289.html: success\n",
      "http://www.teknologadam.com/teknoloji/LG-V10-Fiyati-ve-Teknik-Ozellikleri-LG-V10-Turkiye-Satis-Fiyati-LG-V10-Kullanici-Yorumlari-22-Subat-2016-Pazartesi-h10195.html: Failed\n",
      "http://www.omroepbrabant.nl/?news/244660762/Drie+schutters+Medoclaan+Eindhoven+voor+de+rechtbank+in+Den+Bosch.aspx: Failed\n",
      "http://www.alquds.com/lang/ar/articles/1456122054188497600/: Failed\n",
      "https://russian.rt.com/inotv/inotv/2016-03-27/Korol-Iordanii-Turciya-namerenno-navodnyaet: Failed\n",
      "http://stirileprotv.ro/stiri/actualitate/sotia-sirianului-gasit-mort-in-portbagaj-si-amantul-acesteia-condamnati-la-inchisoare-pe-viata.html: Failed\n",
      "http://afamily.vn/doi-song/ky-uc-kho-quen-cua-nang-hoa-hau-bi-bat-coc-va-xam-hai-20160301025917969.chn: Failed\n",
      "http://www.romanialibera.ro/stiinta-tehnologie/auto/automobilele-se-vor-vinde-fara-chei--ele-vor-fi-descuiate-din-telefonul-mobil-407781: Failed\n",
      "http://www.dailymail.co.uk/femail/article-3455015/I-d-hell-Ronda-Rousey-s-boyfriend-helped-dark-times-following-Holly-Holm-loss-days-revealed-left-feeling-suicidal.html: success\n",
      "http://www.dailymail.co.uk/home/you/article-3539980/FRONT-ROW-Meet-Duchess-Cambridge-s-hot-new-designer.html: Failed\n",
      "http://www.folkebladet.no/innenriks/2016/04/24/F-16-v%C3%A5deskudd-skapte-livsfare-p%C3%A5-norsk-skytefelt-12643028.ece: Failed\n",
      "http://el-carabobeno.com/noticias/articulo/124966/asesinado-joven-tras-resistirse-al-robo-en-los-guayos: success\n",
      "http://www.szon.hu/osztodo-huszonotmillio-meg-lehet-palyazni/3019076: Failed\n",
      "http://www.thenational.scot/news/buy-one-get-one-free-for-calmac-customers-during-national-ferry-fortnight.14637: Failed\n",
      "http://aaj.tv/2016/03/russias-lavrov-kerry-call-for-prompt-start-to-syria-talks/: Failed\n",
      "http://bilbaoya.com/2016/03/05/warriors-curry-is-nba-western-conference-player-of-the-month.html: Failed\n",
      "http://www.theguardian.com/world/2016/feb/23/arrest-the-thieves-and-embezzlers-who-are-plundering-iraq: Failed\n",
      "http://www.sankei.com/./column/news/160316/clm1603160004-n1.html: Failed\n",
      "https://myslo.ru/news/tula/2016-03-09-9-maya-2016-goda-po-tule-v-chetvertiy-raz-proydet-bessmertniy-polk: Failed\n",
      "http://vietbao.vn/The-gioi/Tuong-tan-tuan-duong-ham-hat-nhan-trong-Chien-tranh-Viet-Nam/150652885/162/: Failed\n",
      "http://suracapulco.mx/1/sere-el-ultimo-en-dar-malas-noticias-de-guerrero-dice-astudillo-antes-de-partir-al-tianguis-turistico/: Failed\n",
      "http://ladiaria.com.uy/articulo/2016/4/proceso-creativo/: Failed\n",
      "http://economictimes.indiatimes.com/magazines/panache/100000-units-of-galaxy-s7-series-sold-in-first-two-days/articleshow/51381911.cms: Failed\n",
      "http://oglobo.globo.com/rio/tunel-da-via-expressa-ja-esta-com-965-das-obras-concluidas-18863888: success\n",
      "http://www.pressdemocrat.com/opinion/5389818-181/bruni-rubios-exit-and-the: Failed\n",
      "http://nuovavenezia.gelocal.it/venezia/cronaca/2016/03/17/news/nebbia-fitta-colpa-dell-impianto-antifurto-in-tilt-1.13143295: Failed\n",
      "http://www.springnews.co.th/newsupdate/283581: Failed\n",
      "http://www.grandain.com/2016/03/25/dieci-persone-denunciate-per-furto-di-i-phone-e-smartphone/: Failed\n",
      "http://www.mathrubhumi.com/news/world/turkey-saudi-launch-ground-operation-aganist-is-malayalam-news-1.863188: Failed\n",
      "http://chuhal.mn/r/5528: Failed\n",
      "http://blog.udn.com/fpbz1ld93l/52430713: Failed\n",
      "http://notizie.tiscali.it/feeds/Anas-al-via-il-Piano-manutenzione-sulla-A3-Salerno-Reggio-Calabria-00001/: Failed\n"
     ]
    }
   ],
   "source": [
    "failed_sites = dict()\n",
    "for index in range(len(responses)):\n",
    "    key = urllib.request.Request(df.iloc[[index]].DocumentIdentifier).host\n",
    "    print(df.iloc[index].DocumentIdentifier, end=\": \")\n",
    "    if not responses[index][\"status\"]:\n",
    "        print(\"Failed\")\n",
    "        if not key in failed_sites:\n",
    "            failed_sites[key] = 1\n",
    "        else:\n",
    "            failed_sites[key]+=1\n",
    "    else:\n",
    "        print(\"success\")\n",
    "        "
   ]
  },
  {
   "cell_type": "code",
   "execution_count": 98,
   "metadata": {},
   "outputs": [
    {
     "data": {
      "text/plain": [
       "{'sputniknews.com': 1,\n",
       " 'sverigesradio.se': 1,\n",
       " 'www.ht.no': 1,\n",
       " 'www.arabianewspaper.com': 1,\n",
       " 'www.cronica.com.mx': 1,\n",
       " 'www.alshahedkw.com': 1,\n",
       " 'www.timesunion.com': 1,\n",
       " 'deportes.infonews.com': 1,\n",
       " 'www.centralwesterndaily.com.au': 1,\n",
       " 'www.jornaldamidia.com.br': 1,\n",
       " 'newsok.com': 1,\n",
       " 'www.sydsvenskan.se': 1,\n",
       " 'www.haz.de': 1,\n",
       " 'www.paris-normandie.fr': 1,\n",
       " 'www.napi.hu': 1,\n",
       " 'www.sltrib.com': 1,\n",
       " 'www.auraavis.no': 1,\n",
       " 'www.teknologadam.com': 1,\n",
       " 'www.omroepbrabant.nl': 1,\n",
       " 'www.alquds.com': 1,\n",
       " 'russian.rt.com': 1,\n",
       " 'stirileprotv.ro': 1,\n",
       " 'afamily.vn': 1,\n",
       " 'www.romanialibera.ro': 1,\n",
       " 'www.dailymail.co.uk': 1,\n",
       " 'www.folkebladet.no': 1,\n",
       " 'www.szon.hu': 1,\n",
       " 'www.thenational.scot': 1,\n",
       " 'aaj.tv': 1,\n",
       " 'bilbaoya.com': 1,\n",
       " 'www.theguardian.com': 1,\n",
       " 'www.sankei.com': 1,\n",
       " 'myslo.ru': 1,\n",
       " 'vietbao.vn': 1,\n",
       " 'suracapulco.mx': 1,\n",
       " 'ladiaria.com.uy': 1,\n",
       " 'economictimes.indiatimes.com': 1,\n",
       " 'www.pressdemocrat.com': 1,\n",
       " 'nuovavenezia.gelocal.it': 1,\n",
       " 'www.springnews.co.th': 1,\n",
       " 'www.grandain.com': 1,\n",
       " 'www.mathrubhumi.com': 1,\n",
       " 'chuhal.mn': 1,\n",
       " 'blog.udn.com': 1,\n",
       " 'notizie.tiscali.it': 1}"
      ]
     },
     "execution_count": 98,
     "metadata": {},
     "output_type": "execute_result"
    }
   ],
   "source": [
    "failed_sites"
   ]
  },
  {
   "cell_type": "markdown",
   "metadata": {},
   "source": [
    "## Download the Videos from the URL"
   ]
  },
  {
   "cell_type": "code",
   "execution_count": 112,
   "metadata": {},
   "outputs": [
    {
     "name": "stdout",
     "output_type": "stream",
     "text": [
      "Retrieving Info for https://www.youtube.com/embed/Qh9EwNurawE\n",
      "Retrieving Info for https://www.youtube.com/embed/euJKmWnscJM?enablejsapi=1&origin=https://www.el-carabobeno.com&autoplay=0&cc_load_policy=0&iv_load_policy=1&loop=0&modestbranding=0&rel=1&showinfo=1&fs=1&theme=dark&color=red&autohide=2&controls=2&playsinline=0&\n"
     ]
    }
   ],
   "source": [
    "# For some videos, only a playlist URL is provided. Retrieve the video URL for those.\n",
    "playlist_resolution = dict()\n",
    "for response in responses:\n",
    "    if response[\"status\"]:\n",
    "        if response[\"is_playlist\"]:\n",
    "            for playlist_item in response[\"playlist_items\"]:\n",
    "                print(\"Retrieving Info for %s\" % playlist_item)\n",
    "                url = 'https://getvideo.p.mashape.com/?' + urllib.parse.urlencode({\"url\":playlist_item})\n",
    "                req = urllib.request.Request(url)\n",
    "                req.add_header('X-Mashape-Key', os.environ[\"MASHAPE_KEY\"])\n",
    "                try:\n",
    "                    playlist_resolution[playlist_item] = json.loads(urllib.request.urlopen(req).read())\n",
    "                except e:\n",
    "                    playlist_resolution[playlist_item] = {\"status\":False,\"message\":\"Crawler caught Exception: %s\" % e}"
   ]
  },
  {
   "cell_type": "code",
   "execution_count": 111,
   "metadata": {},
   "outputs": [
    {
     "data": {
      "text/plain": [
       "dict_keys(['https://www.youtube.com/embed/Qh9EwNurawE', 'https://www.youtube.com/embed/euJKmWnscJM?enablejsapi=1&origin=https://www.el-carabobeno.com&autoplay=0&cc_load_policy=0&iv_load_policy=1&loop=0&modestbranding=0&rel=1&showinfo=1&fs=1&theme=dark&color=red&autohide=2&controls=2&playsinline=0&'])"
      ]
     },
     "execution_count": 111,
     "metadata": {},
     "output_type": "execute_result"
    }
   ],
   "source": [
    "playlist_resolution.keys()"
   ]
  },
  {
   "cell_type": "code",
   "execution_count": 120,
   "metadata": {},
   "outputs": [],
   "source": [
    "def dl_stream(url):\n",
    "    print(url)\n",
    "\n",
    "def get_image_url():\n",
    "    return\n",
    "\n",
    "def get_video_url():\n",
    "    return\n",
    "\n",
    "def get_id():\n",
    "    return\n",
    "\n",
    "def get_article_url():\n",
    "    return\n",
    "\n",
    "\n",
    "# TODO handle multiple streams (if they're not just the same video in multiple resolutions)\n",
    "# TODO handle playlist with multiple videos\n",
    "complete_results = list()\n",
    "for index, response in zip(range(len(responses)), responses):\n",
    "    if response[\"status\"]:\n",
    "        article_url = df.iloc[index].DocumentIdentifier\n",
    "        image_url = df.iloc[index].ImageURL\n",
    "        \n",
    "        if response[\"is_playlist\"]:\n",
    "            if(len(response[\"playlist_items\"]) > 0):\n",
    "                video_url = playlist_resolution[response[\"playlist_items\"][0]][\"streams\"][0][\"url\"]\n",
    "                complete_results.append((article_url, image_url, video_url))\n",
    "        else:\n",
    "            video_url = response[\"streams\"][0][\"url\"]\n",
    "            complete_results.append((article_url, image_url, video_url))"
   ]
  },
  {
   "cell_type": "code",
   "execution_count": 122,
   "metadata": {},
   "outputs": [
    {
     "data": {
      "text/html": [
       "0: <a href=\"http://www.t-online.de/nachrichten/deutschland/gesellschaft/id_77427712/hans-dietrich-genscher-ist-tot-frueherer-aussenminister-wurde-89.html\">Article</a> <a href=\"http://bilder.t-online.de/b/77/42/89/36/id_77428936/610/tid_da/hans-dietrich-genscher-ist-verstorben-.jpg\">Image</a> <a href=\"https://r2---sn-5go7yner.googlevideo.com/videoplayback?gir=yes&clen=2595749&itag=43&ei=8WSEW5yeEM_l7QTe2Yq4Aw&pl=49&c=WEB&initcwndbps=453750&signature=51A90C47B0868590BCDFD26A3B41B626C98D0A02.96C48DF6016407B291CE2316811799AF64FBE451&mime=video%2Fwebm&mt=1535403180&nh=%2CIgphcjAxLmxlZDAzKgkxMjcuMC4wLjE&requiressl=yes&sparams=clen%2Cdur%2Cei%2Cgir%2Cid%2Cinitcwndbps%2Cip%2Cipbits%2Citag%2Clmt%2Cmime%2Cmm%2Cmn%2Cms%2Cmv%2Cnh%2Cpl%2Cratebypass%2Crequiressl%2Csource%2Cexpire&ipbits=0&expire=1535424849&ratebypass=yes&source=youtube&mv=m&fvip=12&ms=au%2Conr&ip=2a02%3A7aa0%3A1619%3A%3Aa273%3A36b7&key=yt6&lmt=1298085941972489&mm=31%2C26&mn=sn-5go7yner%2Csn-axq7sn7l&id=o-AOwDO2QG98OU-JLElByYcsXn-emoVwYe9vE4UbTS1P45&dur=0.000\">Video</a>"
      ],
      "text/plain": [
       "<IPython.core.display.HTML object>"
      ]
     },
     "metadata": {},
     "output_type": "display_data"
    },
    {
     "data": {
      "text/html": [
       "1: <a href=\"http://english.cntv.cn/2016/02/18/VIDE1NP2zyftn3o5msu1vTyw160218.shtml\">Article</a> <a href=\"http://p1.img.cctvpic.com/photoworkspace/contentimg/2016/02/18/2016021815183555126.jpg\">Image</a> <a href=\"http://v.cctv.com/flash/mp4video48/TMS/2016/02/18/25e3d82d873d4b66ba4dce1414047725_h264200000nero_aac16.mp4\">Video</a>"
      ],
      "text/plain": [
       "<IPython.core.display.HTML object>"
      ]
     },
     "metadata": {},
     "output_type": "display_data"
    },
    {
     "data": {
      "text/html": [
       "2: <a href=\"http://el-carabobeno.com/noticias/articulo/124966/asesinado-joven-tras-resistirse-al-robo-en-los-guayos\">Article</a> <a href=\"http://el-carabobeno.com/public/photos/20067.jpg\">Image</a> <a href=\"https://r1---sn-4g5edns7.googlevideo.com/videoplayback?ip=2a01%3A4f8%3A151%3A4343%3A%3A2&ei=9GSEW4X7A4HAgQeZrYigDg&sparams=clen%2Cdur%2Cei%2Cgir%2Cid%2Cinitcwndbps%2Cip%2Cipbits%2Citag%2Clmt%2Cmime%2Cmm%2Cmn%2Cms%2Cmv%2Cpl%2Cratebypass%2Crequiressl%2Csource%2Cexpire&id=o-ANpCUpXLj7-tWHFFZkgJmvjg8PfbBFQU-KH7EosiYrZO&clen=1077013&requiressl=yes&gir=yes&pl=44&initcwndbps=1231250&dur=0.000&source=youtube&ratebypass=yes&lmt=1535037102306729&ipbits=0&itag=43&fvip=1&key=yt6&mime=video%2Fwebm&expire=1535424852&mn=sn-4g5edns7%2Csn-5hne6nsy&mm=31%2C26&c=WEB&signature=A9EFA66063C28827A327689BCCBFD6E0E33AD1CF.8AE79A513E7841BB2D0E0964658D6571FC22D7F4&ms=au%2Conr&mv=m&mt=1535403180\">Video</a>"
      ],
      "text/plain": [
       "<IPython.core.display.HTML object>"
      ]
     },
     "metadata": {},
     "output_type": "display_data"
    }
   ],
   "source": [
    "from IPython.core.display import display, HTML\n",
    "\n",
    "index = 0\n",
    "for a_url, i_url, v_url in complete_results:\n",
    "    display(HTML(\"\"\"%d: <a href=\"%s\">Article</a> <a href=\"%s\">Image</a> <a href=\"%s\">Video</a>\"\"\" \n",
    "                 % (index, a_url, i_url, v_url)))\n",
    "    index+=1"
   ]
  },
  {
   "cell_type": "code",
   "execution_count": null,
   "metadata": {},
   "outputs": [],
   "source": []
  }
 ],
 "metadata": {
  "kernelspec": {
   "display_name": "Python 3",
   "language": "python",
   "name": "python3"
  },
  "language_info": {
   "codemirror_mode": {
    "name": "ipython",
    "version": 3
   },
   "file_extension": ".py",
   "mimetype": "text/x-python",
   "name": "python",
   "nbconvert_exporter": "python",
   "pygments_lexer": "ipython3",
   "version": "3.6.2"
  }
 },
 "nbformat": 4,
 "nbformat_minor": 2
}
