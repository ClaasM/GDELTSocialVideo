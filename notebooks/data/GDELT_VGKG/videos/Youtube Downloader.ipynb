{
 "cells": [
  {
   "cell_type": "code",
   "execution_count": null,
   "metadata": {},
   "outputs": [],
   "source": [
    "from bs4 import BeautifulSoup\n",
    "from __future__ import unicode_literals\n",
    "import youtube_dl\n",
    "ydl_opts = {}\n",
    "\n",
    "\n",
    "\n",
    "\n",
    "with youtube_dl.YoutubeDL(ydl_opts) as ydl:\n",
    "    \n",
    "    files = glob.glob(data_dir + \"/raw/articles/[0-9]*\")\n",
    "    total_cnt = 0\n",
    "    iframe_cnt = 0\n",
    "    has_src = 0\n",
    "    is_yt = 0\n",
    "    \n",
    "    with gzip.open(os.environ[\"DATA_PATH\"] + '/external/vgkg-20160427-part1.csv.gz', \"rt\") as gzipfile:\n",
    "        reader = csv.reader(gzipfile)\n",
    "        DATE = None\n",
    "        index = -1\n",
    "        while DATE != str(date):\n",
    "            index += 1\n",
    "            (DATE, DocumentIdentifier, ImageURL, RawJSON) = next(reader)\n",
    "        return index, (DATE, DocumentIdentifier, ImageURL, RawJSON)\n",
    "    \n",
    "    for file in files[:100]:\n",
    "        #print(file)\n",
    "        total_cnt += 1\n",
    "        soup = BeautifulSoup(util.load_gzip_pickle(file))\n",
    "        iframes = soup.findAll(\"iframe\")\n",
    "        for iframe in iframes:\n",
    "            iframe_cnt += 1\n",
    "            if iframe.has_attr(\"src\"):\n",
    "                has_src+=1\n",
    "                src = iframe['src']\n",
    "                if \"youtube.com\" in src:\n",
    "                    is_yt += 1\n",
    "                    try:\n",
    "                        ydl.download([iframe['src']])\n",
    "                    except Exception as e:\n",
    "                        print(e)\n",
    "                \n",
    "    \n",
    "total_cnt, iframe_cnt, has_src, is_yt"
   ]
  }
 ],
 "metadata": {
  "kernelspec": {
   "display_name": "Python 3",
   "language": "python",
   "name": "python3"
  },
  "language_info": {
   "codemirror_mode": {
    "name": "ipython",
    "version": 3
   },
   "file_extension": ".py",
   "mimetype": "text/x-python",
   "name": "python",
   "nbconvert_exporter": "python",
   "pygments_lexer": "ipython3",
   "version": "3.6.2"
  }
 },
 "nbformat": 4,
 "nbformat_minor": 2
}
