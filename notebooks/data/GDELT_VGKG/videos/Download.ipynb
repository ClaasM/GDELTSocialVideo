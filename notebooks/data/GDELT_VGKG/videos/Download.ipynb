{
 "cells": [
  {
   "cell_type": "markdown",
   "metadata": {},
   "source": [
    "# Downloading the Videos in the VGKG Dataset Articles"
   ]
  },
  {
   "cell_type": "code",
   "execution_count": 25,
   "metadata": {},
   "outputs": [],
   "source": [
    "from gzip import GzipFile\n",
    "import pandas as pd\n",
    "import glob\n",
    "from multiprocessing.dummy import Pool as DummyPool\n",
    "\n",
    "%load_ext autoreload\n",
    "%autoreload 2\n",
    "\n",
    "# Autoreload code so no jupyter restarts are required\n",
    "from src.data import webpage \n",
    "from src import util \n",
    "\n",
    "data_dir = \"../../../../data/\""
   ]
  },
  {
   "cell_type": "code",
   "execution_count": 11,
   "metadata": {},
   "outputs": [
    {
     "data": {
      "text/plain": [
       "686"
      ]
     },
     "execution_count": 11,
     "metadata": {},
     "output_type": "execute_result"
    }
   ],
   "source": [
    "data_count = 5000\n",
    "with GzipFile(data_dir + '/external/vgkg-20160427-part1.csv.gz') as gzipfile:\n",
    "    df = pd.read_csv(gzipfile, nrows=data_count)\n",
    "\n",
    "# only request the data for pages where useful text could be extracted\n",
    "files = glob.glob(data_dir + \"/processed/sentences/[0-9]*\")"
   ]
  },
  {
   "cell_type": "code",
   "execution_count": 23,
   "metadata": {},
   "outputs": [
    {
     "data": {
      "text/plain": [
       "686"
      ]
     },
     "execution_count": 23,
     "metadata": {},
     "output_type": "execute_result"
    }
   ],
   "source": [
    "urls = list()\n",
    "for file in files:\n",
    "    urls.append((file.split(\"/\")[-1], df.iloc[file_index].DocumentIdentifier))\n",
    "    \n",
    "len(urls)"
   ]
  },
  {
   "cell_type": "code",
   "execution_count": null,
   "metadata": {},
   "outputs": [],
   "source": [
    "\n",
    "\n",
    "f = FloatProgress(min=0, max=data_count)\n",
    "display(f)\n",
    "pool = DummyPool(16) # using dummypool here because for whatever reason the other one doesn't get proper bandwidth\n",
    "results = list()\n",
    "\n",
    "\n",
    "\n",
    "for result in pool.imap(webpage.download_and_save, ):\n",
    "    f.value += 1\n",
    "    results.append(result)\n",
    "pool.close()\n",
    "pool.join()"
   ]
  },
  {
   "cell_type": "code",
   "execution_count": 27,
   "metadata": {},
   "outputs": [
    {
     "ename": "TypeError",
     "evalue": "a bytes-like object is required, not 'str'",
     "output_type": "error",
     "traceback": [
      "\u001b[0;31m---------------------------------------------------------------------------\u001b[0m",
      "\u001b[0;31mTypeError\u001b[0m                                 Traceback (most recent call last)",
      "\u001b[0;32m<ipython-input-27-97e005bbaf52>\u001b[0m in \u001b[0;36m<module>\u001b[0;34m()\u001b[0m\n\u001b[1;32m      4\u001b[0m \u001b[0;32mfor\u001b[0m \u001b[0mfile\u001b[0m \u001b[0;32min\u001b[0m \u001b[0mfiles\u001b[0m\u001b[0;34m:\u001b[0m\u001b[0;34m\u001b[0m\u001b[0m\n\u001b[1;32m      5\u001b[0m     \u001b[0mdoc\u001b[0m \u001b[0;34m=\u001b[0m \u001b[0mutil\u001b[0m\u001b[0;34m.\u001b[0m\u001b[0mload_gzip_pickle\u001b[0m\u001b[0;34m(\u001b[0m\u001b[0mfile\u001b[0m\u001b[0;34m)\u001b[0m\u001b[0;34m\u001b[0m\u001b[0m\n\u001b[0;32m----> 6\u001b[0;31m     \u001b[0mprint\u001b[0m\u001b[0;34m(\u001b[0m\u001b[0mdoc\u001b[0m\u001b[0;34m.\u001b[0m\u001b[0mfind\u001b[0m\u001b[0;34m(\u001b[0m\u001b[0;34m\"</div>\"\u001b[0m\u001b[0;34m)\u001b[0m\u001b[0;34m)\u001b[0m\u001b[0;34m\u001b[0m\u001b[0m\n\u001b[0m",
      "\u001b[0;31mTypeError\u001b[0m: a bytes-like object is required, not 'str'"
     ]
    }
   ],
   "source": [
    "# Does Pool recognize it when the array is dynamically extended by the task?\n",
    "\n",
    "\n",
    "\n"
   ]
  },
  {
   "cell_type": "code",
   "execution_count": null,
   "metadata": {},
   "outputs": [],
   "source": [
    "from bs4 import BeautifulSoup\n",
    "from __future__ import unicode_literals\n",
    "import youtube_dl\n",
    "ydl_opts = {\n",
    "    'format': 'worstvideo', # bestvideo[height<=360]+bestaudio/best[height<=360]\n",
    "    #geo-bypass: True\n",
    "    #max-filesize: 200m\n",
    "    #--audio-quality 9\n",
    "}\n",
    "\n",
    "from pytube import YouTube\n",
    "with youtube_dl.YoutubeDL(ydl_opts) as ydl:\n",
    "    def func(path):\n",
    "        soup = BeautifulSoup(util.load_gzip_pickle(path))\n",
    "        iframes = soup.findAll(\"iframe\")\n",
    "        for iframe in iframes:\n",
    "            if iframe.has_attr(\"src\"):\n",
    "                src = iframe['src']\n",
    "                if \"youtube.com\" in src:\n",
    "                    try:\n",
    "                         YouTube(iframe['src']).streams.filter(progressive=True, file_extension='mp4').order_by('resolution').asc().first().download(filename=\"Test\")\n",
    "                        #ydl.download([iframe['src']], info_filename=\"../\" + path.split(\"/\")[-1])\n",
    "                    except Exception as e:\n",
    "                        print(e)\n",
    "   \n",
    "\n",
    "    files = glob.glob(data_dir + \"/raw/articles/[0-9]*\")\n",
    "    for file in files:\n",
    "        func(file)"
   ]
  },
  {
   "cell_type": "code",
   "execution_count": null,
   "metadata": {},
   "outputs": [],
   "source": [
    "# Check how many files contain an embedded youtube video\n",
    "# <iframe width=\"560\" height=\"315\" src=\"https://www.youtube.com/embed/wogb2ctOfV4\" frameborder=\"0\" allow=\"autoplay; encrypted-media\" allowfullscreen></iframe>"
   ]
  },
  {
   "cell_type": "code",
   "execution_count": null,
   "metadata": {},
   "outputs": [],
   "source": [
    "files = glob.glob(data_dir + \"/raw/articles/[0-9]*\")\n",
    "f = FloatProgress(min=0, max=len(files))\n",
    "display(f)\n",
    "pool = Pool(20)\n",
    "results = list()\n",
    "for result in pool.imap(webpage.extract_sentences_and_save, files):\n",
    "    f.value += 1\n",
    "    results.append(result)\n",
    "pool.close()\n",
    "pool.join() "
   ]
  }
 ],
 "metadata": {
  "kernelspec": {
   "display_name": "Python 3",
   "language": "python",
   "name": "python3"
  },
  "language_info": {
   "codemirror_mode": {
    "name": "ipython",
    "version": 3
   },
   "file_extension": ".py",
   "mimetype": "text/x-python",
   "name": "python",
   "nbconvert_exporter": "python",
   "pygments_lexer": "ipython3",
   "version": "3.6.2"
  }
 },
 "nbformat": 4,
 "nbformat_minor": 2
}
