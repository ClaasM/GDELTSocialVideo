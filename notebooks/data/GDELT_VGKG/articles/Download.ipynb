{
 "cells": [
  {
   "cell_type": "markdown",
   "metadata": {},
   "source": [
    "# Preprocessing the VGKG Dataset"
   ]
  },
  {
   "cell_type": "code",
   "execution_count": 13,
   "metadata": {},
   "outputs": [],
   "source": [
    "import sys\n",
    "import urllib\n",
    "import time\n",
    "from gzip import GzipFile\n",
    "import pandas as pd\n",
    "import os\n",
    "from ipywidgets import FloatProgress\n",
    "from IPython.display import display\n",
    "import re\n",
    "from bs4 import BeautifulSoup\n",
    "import nltk\n",
    "import pickle\n",
    "import gzip\n",
    "import glob\n",
    "import matplotlib\n",
    "import numpy as np\n",
    "import matplotlib.pyplot as plt\n",
    "\n",
    "# ALWAYS import from dummy for I/O bound tasks\n",
    "from multiprocessing.dummy import Pool as DummyPool\n",
    "from multiprocessing import Pool\n",
    "\n",
    "from util.download import webpage"
   ]
  },
  {
   "cell_type": "markdown",
   "metadata": {},
   "source": [
    "## Initialization"
   ]
  },
  {
   "cell_type": "code",
   "execution_count": 14,
   "metadata": {},
   "outputs": [
    {
     "data": {
      "text/html": [
       "<div>\n",
       "<style scoped>\n",
       "    .dataframe tbody tr th:only-of-type {\n",
       "        vertical-align: middle;\n",
       "    }\n",
       "\n",
       "    .dataframe tbody tr th {\n",
       "        vertical-align: top;\n",
       "    }\n",
       "\n",
       "    .dataframe thead th {\n",
       "        text-align: right;\n",
       "    }\n",
       "</style>\n",
       "<table border=\"1\" class=\"dataframe\">\n",
       "  <thead>\n",
       "    <tr style=\"text-align: right;\">\n",
       "      <th></th>\n",
       "      <th>DATE</th>\n",
       "      <th>DocumentIdentifier</th>\n",
       "      <th>ImageURL</th>\n",
       "      <th>RawJSON</th>\n",
       "    </tr>\n",
       "  </thead>\n",
       "  <tbody>\n",
       "    <tr>\n",
       "      <th>0</th>\n",
       "      <td>20160307200000</td>\n",
       "      <td>http://sputniknews.com/us/20160307/1035926176/...</td>\n",
       "      <td>http://cdn2.img.sputniknews.com/images/103268/...</td>\n",
       "      <td>{ \"responses\": [ { \"faceAnnotations\": [ { \"bou...</td>\n",
       "    </tr>\n",
       "    <tr>\n",
       "      <th>1</th>\n",
       "      <td>20160318080000</td>\n",
       "      <td>http://sverigesradio.se/sida/artikel.aspx?prog...</td>\n",
       "      <td>http://sverigesradio.se/sida/images/1646/36601...</td>\n",
       "      <td>{ \"responses\": [ { \"labelAnnotations\": [ { \"mi...</td>\n",
       "    </tr>\n",
       "    <tr>\n",
       "      <th>2</th>\n",
       "      <td>20160318080000</td>\n",
       "      <td>http://www.ht.no/nyheter/2016/03/18/Legger-seg...</td>\n",
       "      <td>http://www.ht.no/incoming/article12288611.ece/...</td>\n",
       "      <td>{ \"responses\": [ { \"labelAnnotations\": [ { \"mi...</td>\n",
       "    </tr>\n",
       "    <tr>\n",
       "      <th>3</th>\n",
       "      <td>20160423200000</td>\n",
       "      <td>http://www.arabianewspaper.com/malayalam-news/...</td>\n",
       "      <td>http://www.arabianewspaper.com/media/selfie-pn...</td>\n",
       "      <td>{ \"responses\": [ { \"labelAnnotations\": [ { \"mi...</td>\n",
       "    </tr>\n",
       "    <tr>\n",
       "      <th>4</th>\n",
       "      <td>20160322080000</td>\n",
       "      <td>http://www.cronica.com.mx/notas/2016/951571.html</td>\n",
       "      <td>http://www.cronica.com.mx/nimagenes/4/2016-03-...</td>\n",
       "      <td>{ \"responses\": [ { \"labelAnnotations\": [ { \"mi...</td>\n",
       "    </tr>\n",
       "  </tbody>\n",
       "</table>\n",
       "</div>"
      ],
      "text/plain": [
       "             DATE                                 DocumentIdentifier  \\\n",
       "0  20160307200000  http://sputniknews.com/us/20160307/1035926176/...   \n",
       "1  20160318080000  http://sverigesradio.se/sida/artikel.aspx?prog...   \n",
       "2  20160318080000  http://www.ht.no/nyheter/2016/03/18/Legger-seg...   \n",
       "3  20160423200000  http://www.arabianewspaper.com/malayalam-news/...   \n",
       "4  20160322080000   http://www.cronica.com.mx/notas/2016/951571.html   \n",
       "\n",
       "                                            ImageURL  \\\n",
       "0  http://cdn2.img.sputniknews.com/images/103268/...   \n",
       "1  http://sverigesradio.se/sida/images/1646/36601...   \n",
       "2  http://www.ht.no/incoming/article12288611.ece/...   \n",
       "3  http://www.arabianewspaper.com/media/selfie-pn...   \n",
       "4  http://www.cronica.com.mx/nimagenes/4/2016-03-...   \n",
       "\n",
       "                                             RawJSON  \n",
       "0  { \"responses\": [ { \"faceAnnotations\": [ { \"bou...  \n",
       "1  { \"responses\": [ { \"labelAnnotations\": [ { \"mi...  \n",
       "2  { \"responses\": [ { \"labelAnnotations\": [ { \"mi...  \n",
       "3  { \"responses\": [ { \"labelAnnotations\": [ { \"mi...  \n",
       "4  { \"responses\": [ { \"labelAnnotations\": [ { \"mi...  "
      ]
     },
     "execution_count": 14,
     "metadata": {},
     "output_type": "execute_result"
    }
   ],
   "source": [
    "# Global configuration variables\n",
    "data_count = 5000 # The number of rows (=articles) to read \n",
    "\n",
    "# Read the first (of 7) parts of the dataset.\n",
    "with GzipFile('data/GDELT_VGKG/vgkg-20160427-part1.csv.gz') as gzipfile:\n",
    "    df = pd.read_csv(gzipfile, nrows=data_count)\n",
    "    \n",
    "df.head()"
   ]
  },
  {
   "cell_type": "markdown",
   "metadata": {},
   "source": [
    "## Articles\n",
    "\n",
    "### 1) Download the raw HTML"
   ]
  },
  {
   "cell_type": "code",
   "execution_count": 6,
   "metadata": {},
   "outputs": [
    {
     "data": {
      "application/vnd.jupyter.widget-view+json": {
       "model_id": "159ec9f1a58a44e59ba308ecbb6a6672",
       "version_major": 2,
       "version_minor": 0
      },
      "text/plain": [
       "FloatProgress(value=0.0, max=1000.0)"
      ]
     },
     "metadata": {},
     "output_type": "display_data"
    },
    {
     "name": "stdout",
     "output_type": "stream",
     "text": [
      "CPU times: user 20.8 s, sys: 3.72 s, total: 24.5 s\n",
      "Wall time: 4min 23s\n"
     ]
    }
   ],
   "source": [
    "%%time\n",
    "\n",
    "f = FloatProgress(min=0, max=data_count)\n",
    "display(f)\n",
    "pool = DummyPool(8) # using dummypool here because for whatever reason the other one doesn't get proper bandwidth\n",
    "results = list()\n",
    "for result in pool.imap(webpage.download_and_save, df.iterrows()):\n",
    "    f.value += 1\n",
    "    results.append(result)\n",
    "pool.close()\n",
    "pool.join()"
   ]
  },
  {
   "cell_type": "code",
   "execution_count": 8,
   "metadata": {},
   "outputs": [
    {
     "data": {
      "text/plain": [
       "<matplotlib.axes._subplots.AxesSubplot at 0x11c417198>"
      ]
     },
     "execution_count": 8,
     "metadata": {},
     "output_type": "execute_result"
    },
    {
     "data": {
      "image/png": "[encoded data removed]",
      "text/plain": [
       "<Figure size 432x288 with 1 Axes>"
      ]
     },
     "metadata": {},
     "output_type": "display_data"
    }
   ],
   "source": [
    "pd.DataFrame(results)[0].value_counts().plot.pie()"
   ]
  },
  {
   "cell_type": "markdown",
   "metadata": {},
   "source": [
    "### 2) Extract sentences\n",
    "Useful for RNN approaches to sentence encoding"
   ]
  },
  {
   "cell_type": "code",
   "execution_count": 2,
   "metadata": {},
   "outputs": [
    {
     "data": {
      "application/vnd.jupyter.widget-view+json": {
       "model_id": "2577ad1c4ddf4f989af0cd7d969f1ea9",
       "version_major": 2,
       "version_minor": 0
      },
      "text/plain": [
       "FloatProgress(value=0.0, max=539.0)"
      ]
     },
     "metadata": {},
     "output_type": "display_data"
    }
   ],
   "source": [
    "files = glob.glob(\"data/GDELT_VGKG/articles/raw/[0-9]*\")\n",
    "f = FloatProgress(min=0, max=len(files))\n",
    "display(f)\n",
    "pool = Pool(20)\n",
    "results = list()\n",
    "for result in pool.imap(webpage.extract_sentences_and_save, files):\n",
    "    f.value += 1\n",
    "    results.append(result)\n",
    "pool.close()\n",
    "pool.join() "
   ]
  },
  {
   "cell_type": "code",
   "execution_count": 3,
   "metadata": {},
   "outputs": [
    {
     "data": {
      "text/plain": [
       "<matplotlib.axes._subplots.AxesSubplot at 0x119d90f28>"
      ]
     },
     "execution_count": 3,
     "metadata": {},
     "output_type": "execute_result"
    },
    {
     "data": {
      "image/png": "[encoded data removed]",
      "text/plain": [
       "<Figure size 432x288 with 1 Axes>"
      ]
     },
     "metadata": {},
     "output_type": "display_data"
    }
   ],
   "source": [
    "pd.DataFrame(results)[0].value_counts().plot.pie()"
   ]
  },
  {
   "cell_type": "code",
   "execution_count": 12,
   "metadata": {},
   "outputs": [
    {
     "data": {
      "text/html": [
       "<div>\n",
       "<style scoped>\n",
       "    .dataframe tbody tr th:only-of-type {\n",
       "        vertical-align: middle;\n",
       "    }\n",
       "\n",
       "    .dataframe tbody tr th {\n",
       "        vertical-align: top;\n",
       "    }\n",
       "\n",
       "    .dataframe thead th {\n",
       "        text-align: right;\n",
       "    }\n",
       "</style>\n",
       "<table border=\"1\" class=\"dataframe\">\n",
       "  <thead>\n",
       "    <tr style=\"text-align: right;\">\n",
       "      <th></th>\n",
       "      <th>File</th>\n",
       "      <th>Length</th>\n",
       "    </tr>\n",
       "  </thead>\n",
       "  <tbody>\n",
       "    <tr>\n",
       "      <th>53</th>\n",
       "      <td>data/GDELT_VGKG/articles/sentences/20160220084500</td>\n",
       "      <td>983</td>\n",
       "    </tr>\n",
       "    <tr>\n",
       "      <th>146</th>\n",
       "      <td>data/GDELT_VGKG/articles/sentences/20160302143000</td>\n",
       "      <td>707</td>\n",
       "    </tr>\n",
       "    <tr>\n",
       "      <th>281</th>\n",
       "      <td>data/GDELT_VGKG/articles/sentences/20160322133000</td>\n",
       "      <td>559</td>\n",
       "    </tr>\n",
       "    <tr>\n",
       "      <th>289</th>\n",
       "      <td>data/GDELT_VGKG/articles/sentences/20160323114500</td>\n",
       "      <td>458</td>\n",
       "    </tr>\n",
       "    <tr>\n",
       "      <th>504</th>\n",
       "      <td>data/GDELT_VGKG/articles/sentences/20160422080000</td>\n",
       "      <td>448</td>\n",
       "    </tr>\n",
       "  </tbody>\n",
       "</table>\n",
       "</div>"
      ],
      "text/plain": [
       "                                                  File  Length\n",
       "53   data/GDELT_VGKG/articles/sentences/20160220084500     983\n",
       "146  data/GDELT_VGKG/articles/sentences/20160302143000     707\n",
       "281  data/GDELT_VGKG/articles/sentences/20160322133000     559\n",
       "289  data/GDELT_VGKG/articles/sentences/20160323114500     458\n",
       "504  data/GDELT_VGKG/articles/sentences/20160422080000     448"
      ]
     },
     "execution_count": 12,
     "metadata": {},
     "output_type": "execute_result"
    }
   ],
   "source": [
    "lengths = list()\n",
    "files = glob.glob(\"data/GDELT_VGKG/articles/sentences/[0-9]*\")\n",
    "for file in files:\n",
    "    with gzip.open(file, \"rb\") as f:\n",
    "            doc = pickle.load(f)\n",
    "            lengths.append((file, len(doc)))\n",
    "            \n",
    "df = pd.DataFrame(lengths, columns=[\"File\",\"Length\"])\n",
    "df.sort_values(\"Length\", ascending=False).head()"
   ]
  },
  {
   "cell_type": "code",
   "execution_count": 7,
   "metadata": {},
   "outputs": [
    {
     "data": {
      "text/plain": [
       "'http://www.murmansk.kp.ru/online/news/2312997/'"
      ]
     },
     "execution_count": 7,
     "metadata": {},
     "output_type": "execute_result"
    }
   ],
   "source": [
    "df[df[\"DATE\"] == 20160220084500].iloc[0].DocumentIdentifier"
   ]
  },
  {
   "cell_type": "code",
   "execution_count": 47,
   "metadata": {},
   "outputs": [],
   "source": [
    "file_to_unzip = \"20160328063000\"\n",
    "with gzip.open(\"data/GDELT_VGKG/articles/raw/%s\" % file_to_unzip, \"rb\") as infile:\n",
    "    doc = pickle.load(infile)\n",
    "    with open(\"data/GDELT_VGKG/articles/unzipped/%s.html\" % file_to_unzip, \"wb+\") as outfile:\n",
    "        outfile.write(doc)\n",
    "        outfile.close()"
   ]
  },
  {
   "cell_type": "code",
   "execution_count": null,
   "metadata": {},
   "outputs": [],
   "source": [
    "plt.hist(lengths)\n",
    "plt.show()"
   ]
  },
  {
   "cell_type": "markdown",
   "metadata": {},
   "source": [
    "### 3 ) Filter language to only english"
   ]
  },
  {
   "cell_type": "code",
   "execution_count": 15,
   "metadata": {},
   "outputs": [
    {
     "data": {
      "application/vnd.jupyter.widget-view+json": {
       "model_id": "8ecc105c2dbf4cf6adbb2f92baafd4da",
       "version_major": 2,
       "version_minor": 0
      },
      "text/plain": [
       "FloatProgress(value=0.0, max=539.0)"
      ]
     },
     "metadata": {},
     "output_type": "display_data"
    }
   ],
   "source": [
    "# For now let's just look at the languages\n",
    "files = glob.glob(\"data/GDELT_VGKG/articles/sentences/[0-9]*\")\n",
    "f = FloatProgress(min=0, max=len(files))\n",
    "display(f)\n",
    "pool = Pool(8)\n",
    "results = list()\n",
    "for result in pool.imap(webpage.save_if_english, files):\n",
    "    f.value += 1\n",
    "    results.append(result)\n",
    "pool.close()\n",
    "pool.join() "
   ]
  },
  {
   "cell_type": "code",
   "execution_count": 16,
   "metadata": {},
   "outputs": [
    {
     "data": {
      "text/plain": [
       "<matplotlib.axes._subplots.AxesSubplot at 0x11c95f3c8>"
      ]
     },
     "execution_count": 16,
     "metadata": {},
     "output_type": "execute_result"
    },
    {
     "data": {
      "image/png": "[encoded data removed]",
      "text/plain": [
       "<Figure size 432x288 with 1 Axes>"
      ]
     },
     "metadata": {},
     "output_type": "display_data"
    }
   ],
   "source": [
    "pd.DataFrame(results)[0].value_counts().plot.pie()"
   ]
  },
  {
   "cell_type": "code",
   "execution_count": 17,
   "metadata": {},
   "outputs": [
    {
     "data": {
      "text/html": [
       "<div>\n",
       "<style scoped>\n",
       "    .dataframe tbody tr th:only-of-type {\n",
       "        vertical-align: middle;\n",
       "    }\n",
       "\n",
       "    .dataframe tbody tr th {\n",
       "        vertical-align: top;\n",
       "    }\n",
       "\n",
       "    .dataframe thead th {\n",
       "        text-align: right;\n",
       "    }\n",
       "</style>\n",
       "<table border=\"1\" class=\"dataframe\">\n",
       "  <thead>\n",
       "    <tr style=\"text-align: right;\">\n",
       "      <th></th>\n",
       "      <th>File</th>\n",
       "      <th>Length</th>\n",
       "    </tr>\n",
       "  </thead>\n",
       "  <tbody>\n",
       "    <tr>\n",
       "      <th>15</th>\n",
       "      <td>20160220084500</td>\n",
       "      <td>91843</td>\n",
       "    </tr>\n",
       "    <tr>\n",
       "      <th>117</th>\n",
       "      <td>20160405161500</td>\n",
       "      <td>24936</td>\n",
       "    </tr>\n",
       "    <tr>\n",
       "      <th>54</th>\n",
       "      <td>20160308074500</td>\n",
       "      <td>16217</td>\n",
       "    </tr>\n",
       "    <tr>\n",
       "      <th>18</th>\n",
       "      <td>20160221183000</td>\n",
       "      <td>14220</td>\n",
       "    </tr>\n",
       "    <tr>\n",
       "      <th>128</th>\n",
       "      <td>20160411124500</td>\n",
       "      <td>13815</td>\n",
       "    </tr>\n",
       "  </tbody>\n",
       "</table>\n",
       "</div>"
      ],
      "text/plain": [
       "               File  Length\n",
       "15   20160220084500   91843\n",
       "117  20160405161500   24936\n",
       "54   20160308074500   16217\n",
       "18   20160221183000   14220\n",
       "128  20160411124500   13815"
      ]
     },
     "execution_count": 17,
     "metadata": {},
     "output_type": "execute_result"
    }
   ],
   "source": [
    "lengths = list()\n",
    "files = glob.glob(\"data/GDELT_VGKG/articles/sentences_english/[0-9]*\")\n",
    "for file in files:\n",
    "    with gzip.open(file, \"rb\") as f:\n",
    "            doc = pickle.load(f)\n",
    "            lengths.append((file.split(\"/\")[-1], len(doc)))\n",
    "            \n",
    "df = pd.DataFrame(lengths, columns=[\"File\",\"Length\"])\n",
    "df.sort_values(\"Length\", ascending=False).head()"
   ]
  },
  {
   "cell_type": "markdown",
   "metadata": {},
   "source": [
    "##  Images\n",
    "### 1) Download the raw images"
   ]
  },
  {
   "cell_type": "code",
   "execution_count": null,
   "metadata": {},
   "outputs": [],
   "source": [
    "     \n",
    "# TODO create number of URLS (including splitting by error type) \n",
    "# and Number of average Characters at each stage plots\n",
    "# TODO look into the errors in more detail (especially 403's etc.)\n",
    "# TODO store and publicise raw html/preprocessed/images\n",
    "# TODO some articles only contain very few words for some reason. Figure out what to do about that."
   ]
  },
  {
   "cell_type": "markdown",
   "metadata": {},
   "source": [
    "### Yolo"
   ]
  },
  {
   "cell_type": "code",
   "execution_count": 3,
   "metadata": {},
   "outputs": [
    {
     "name": "stdout",
     "output_type": "stream",
     "text": [
      "/usr/local/cuda/lib\n"
     ]
    },
    {
     "data": {
      "application/vnd.jupyter.widget-view+json": {
       "model_id": "5c5ec7f351cf487bb65b170d3a890041",
       "version_major": 2,
       "version_minor": 0
      },
      "text/plain": [
       "FloatProgress(value=0.0, max=41.0)"
      ]
     },
     "metadata": {},
     "output_type": "display_data"
    },
    {
     "name": "stdout",
     "output_type": "stream",
     "text": [
      "{}\n",
      "{b'person': 5}\n",
      "{}\n",
      "{b'person': 3, b'tie': 1}\n",
      "{b'person': 1}\n",
      "{b'person': 1}\n",
      "{}\n",
      "{b'person': 1}\n",
      "{b'person': 2}\n",
      "{b'person': 2}\n",
      "{b'person': 3, b'chair': 1}\n",
      "{b'person': 3}\n",
      "{b'person': 2}\n",
      "{}\n",
      "{b'person': 1}\n",
      "{}\n",
      "{}\n",
      "{}\n",
      "{}\n",
      "{b'person': 1}\n",
      "{b'person': 4}\n",
      "{}\n",
      "{b'person': 1}\n",
      "{}\n",
      "{}\n",
      "{b'car': 3}\n",
      "{b'person': 2}\n",
      "{b'person': 1}\n",
      "{b'person': 2}\n",
      "{b'person': 1, b'bicycle': 1}\n",
      "{}\n",
      "{b'person': 3}\n",
      "{}\n",
      "{}\n",
      "{}\n",
      "{b'person': 1}\n",
      "{b'person': 1}\n",
      "{b'tie': 1}\n",
      "{}\n",
      "{b'person': 2}\n",
      "{b'person': 1}\n",
      "CPU times: user 4.44 s, sys: 450 ms, total: 4.89 s\n",
      "Wall time: 5.72 s\n"
     ]
    }
   ],
   "source": [
    "%%time\n",
    "\n",
    "dataset_time = 1535141748 # set this to which version of the collected data is to be used\n",
    "image_path = \"data/GDELT_VGKG/preprocessed/images/%d/\" % dataset_time\n",
    "image_classification_path = \"data/GDELT_VGKG/preprocessed/image_classifications/yoloV3-tiny/%d/%d/\" % (dataset_time, time.time())\n",
    "# TODO make the testing of different classifiers DRY\n",
    "\n",
    "os.makedirs(image_classification_path)\n",
    "\n",
    "sys.path += [os.getcwd()]\n",
    "os.environ['DYLD_LIBRARY_PATH'] = \"/usr/local/cuda/lib\"\n",
    "%run darknet_wrapper.py\n",
    "\n",
    "MODEL=\"yolov3-tiny\"\n",
    "net, meta = initialize_classifier(config=\"cfg/%s.cfg\"%MODEL, weights=\"weights/%s.weights\"%MODEL, data=\"cfg/coco.data\")\n",
    "\n",
    "images = os.listdir(image_path)\n",
    "f = FloatProgress(min=0, max=len(images))\n",
    "display(f)\n",
    "for image in images:\n",
    "    f.value += 1\n",
    "    try:\n",
    "        image_dir = image_path + \"/\" + image\n",
    "        result = detect(net, meta, image_dir)\n",
    "        labels = dict()\n",
    "        for label, probability, coordinates in result:\n",
    "            if label in labels: \n",
    "                labels[label]+=1 \n",
    "            else:\n",
    "                labels[label] = 1\n",
    "        # Save classification result\n",
    "        file = open(\"%s/%s\" % (image_classification_path, image), \"wb+\")\n",
    "        pickle.dump(labels, file)\n",
    "        \n",
    "    except Exception as e:\n",
    "            print(e)\n",
    "            # Some of the files are not actually images\n"
   ]
  },
  {
   "cell_type": "markdown",
   "metadata": {},
   "source": [
    "### Mask R-CNN"
   ]
  },
  {
   "cell_type": "markdown",
   "metadata": {},
   "source": [
    "#### Loading the Classifier and the Images"
   ]
  },
  {
   "cell_type": "code",
   "execution_count": 29,
   "metadata": {},
   "outputs": [],
   "source": [
    "sys.path += [os.getcwd() + \"/Mask_RCNN\", os.getcwd(), os.getcwd() + \"/Mask_RCNN/samples/coco/\"]\n",
    "from mrcnn import utils\n",
    "import mrcnn.model as modellib\n",
    "from mrcnn import visualize\n",
    "import coco\n",
    "\n",
    "MODEL_DIR=\"Mask_RCNN/logs\"\n",
    "COCO_MODEL_PATH=\"Mask_RCNN/mask_rcnn_coco.h5\"\n",
    "\n",
    "DETECTION_THRESHOLD = .5 # .5 is the default threshold of YOLO so we're using that here as well\n",
    "\n",
    "dataset_time = 1535141748 # set this to which version of the collected data is to be used\n",
    "image_path = \"data/GDELT_VGKG/preprocessed/images/%d/\" % dataset_time\n",
    "image_classification_path = \"data/GDELT_VGKG/preprocessed/image_classifications/maskrcnn/%d/%d/\" % (dataset_time, time.time())\n",
    "# TODO make the testing of different classifiers DRY\n",
    "\n",
    "os.makedirs(image_classification_path)\n",
    "\n",
    "image_names = os.listdir(image_path)[:10]\n",
    "\n",
    "class InferenceConfig(coco.CocoConfig):\n",
    "    # Set batch size to 1 since we'll be running inference on\n",
    "    # one image at a time. Batch size = GPU_COUNT * IMAGES_PER_GPU\n",
    "    GPU_COUNT = 1\n",
    "    IMAGES_PER_GPU = len(images)\n",
    "\n",
    "config = InferenceConfig()\n",
    "\n",
    "# Create model object in inference mode.\n",
    "model = modellib.MaskRCNN(mode=\"inference\", model_dir=MODEL_DIR, config=config)\n",
    "\n",
    "# Load weights trained on MS-COCO\n",
    "model.load_weights(COCO_MODEL_PATH, by_name=True)\n",
    "\n",
    "# COCO Class names\n",
    "# Index of the class in the list is its ID. For example, to get ID of\n",
    "# the teddy bear class, use: class_names.index('teddy bear')\n",
    "class_names = ['BG', 'person', 'bicycle', 'car', 'motorcycle', 'airplane',\n",
    "               'bus', 'train', 'truck', 'boat', 'traffic light',\n",
    "               'fire hydrant', 'stop sign', 'parking meter', 'bench', 'bird',\n",
    "               'cat', 'dog', 'horse', 'sheep', 'cow', 'elephant', 'bear',\n",
    "               'zebra', 'giraffe', 'backpack', 'umbrella', 'handbag', 'tie',\n",
    "               'suitcase', 'frisbee', 'skis', 'snowboard', 'sports ball',\n",
    "               'kite', 'baseball bat', 'baseball glove', 'skateboard',\n",
    "               'surfboard', 'tennis racket', 'bottle', 'wine glass', 'cup',\n",
    "               'fork', 'knife', 'spoon', 'bowl', 'banana', 'apple',\n",
    "               'sandwich', 'orange', 'broccoli', 'carrot', 'hot dog', 'pizza',\n",
    "               'donut', 'cake', 'chair', 'couch', 'potted plant', 'bed',\n",
    "               'dining table', 'toilet', 'tv', 'laptop', 'mouse', 'remote',\n",
    "               'keyboard', 'cell phone', 'microwave', 'oven', 'toaster',\n",
    "               'sink', 'refrigerator', 'book', 'clock', 'vase', 'scissors',\n",
    "               'teddy bear', 'hair drier', 'toothbrush']"
   ]
  },
  {
   "cell_type": "markdown",
   "metadata": {},
   "source": [
    "#### Classifiying the images"
   ]
  },
  {
   "cell_type": "code",
   "execution_count": 30,
   "metadata": {},
   "outputs": [
    {
     "name": "stdout",
     "output_type": "stream",
     "text": [
      "Processing 10 images\n",
      "image                    shape: (346, 607, 3)         min:    0.00000  max:  255.00000  uint8\n",
      "image                    shape: (324, 576, 3)         min:    0.00000  max:  255.00000  uint8\n",
      "image                    shape: (360, 420, 3)         min:   85.00000  max:  255.00000  uint8\n",
      "image                    shape: (551, 600, 3)         min:    0.00000  max:  255.00000  uint8\n",
      "image                    shape: (699, 306, 3)         min:    0.00000  max:  255.00000  uint8\n",
      "image                    shape: (400, 581, 3)         min:    0.00000  max:  255.00000  uint8\n",
      "image                    shape: (337, 598, 3)         min:    0.00000  max:  255.00000  uint8\n",
      "image                    shape: (409, 600, 3)         min:    0.00000  max:  255.00000  uint8\n",
      "image                    shape: (720, 1200, 3)        min:    0.00000  max:  255.00000  uint8\n",
      "image                    shape: (466, 965, 3)         min:    0.00000  max:  255.00000  uint8\n"
     ]
    },
    {
     "name": "stderr",
     "output_type": "stream",
     "text": [
      "/Users/claasmeiners/.virtualenvs/Thesis/lib/python3.6/site-packages/skimage/transform/_warps.py:110: UserWarning: Anti-aliasing will be enabled by default in skimage 0.15 to avoid aliasing artifacts when down-sampling images.\n",
      "  warn(\"Anti-aliasing will be enabled by default in skimage 0.15 to \"\n"
     ]
    },
    {
     "name": "stdout",
     "output_type": "stream",
     "text": [
      "molded_images            shape: (10, 1024, 1024, 3)   min: -123.70000  max:  151.10000  float64\n",
      "image_metas              shape: (10, 93)              min:    0.00000  max: 1200.00000  float64\n",
      "anchors                  shape: (10, 261888, 4)       min:   -0.35390  max:    1.29134  float32\n",
      "CPU times: user 14min 41s, sys: 32.8 s, total: 15min 13s\n",
      "Wall time: 2min 7s\n"
     ]
    }
   ],
   "source": [
    "%%time\n",
    "import skimage\n",
    "\n",
    "try:\n",
    "    images = [skimage.io.imread(image_path + \"/\" + image) for image in image_names]\n",
    "    results = model.detect(images, verbose=1)\n",
    "except Exception as e:\n",
    "        print(e)\n",
    "        # Some of the files are not actually images\n"
   ]
  },
  {
   "cell_type": "markdown",
   "metadata": {},
   "source": [
    "### Saving the results "
   ]
  },
  {
   "cell_type": "code",
   "execution_count": 41,
   "metadata": {},
   "outputs": [
    {
     "name": "stdout",
     "output_type": "stream",
     "text": [
      "20160213120000: {'person': 2, 'bicycle': 1}\n",
      "20160215040000: {'person': 7, 'tie': 1, 'potted plant': 1}\n",
      "20160215200000: {'person': 2}\n",
      "20160218080000: {'person': 8, 'tie': 3}\n",
      "20160219200000: {'person': 1, 'car': 1, 'handbag': 1}\n",
      "20160220234500: {'tie': 1, 'person': 18}\n",
      "20160222080000: {'clock': 1}\n",
      "20160223040000: {'person': 1}\n",
      "20160223200000: {'person': 1}\n",
      "20160229120000: {'person': 5}\n"
     ]
    }
   ],
   "source": [
    "# Bring the results into the same format \n",
    "index = 0\n",
    "for result in results:\n",
    "    labels = dict()\n",
    "    for class_id, score in zip(result['class_ids'],result['scores']):\n",
    "        if score > DETECTION_THRESHOLD:\n",
    "            label = class_names[int(class_id)]\n",
    "            if label in labels: \n",
    "                labels[label]+=1 \n",
    "            else:\n",
    "                labels[label] = 1\n",
    "    print(image_names[index] + \": \" + str(labels))\n",
    "    # Save classification result\n",
    "    file = open(\"%s/%s\" % (image_classification_path, image), \"wb+\")\n",
    "    pickle.dump(labels, file)\n",
    "    index += 1"
   ]
  },
  {
   "cell_type": "markdown",
   "metadata": {},
   "source": [
    "## Search Language inconsistencies / hard to classify languages"
   ]
  },
  {
   "cell_type": "code",
   "execution_count": null,
   "metadata": {},
   "outputs": [],
   "source": []
  }
 ],
 "metadata": {
  "kernelspec": {
   "display_name": "Python 3",
   "language": "python",
   "name": "python3"
  },
  "language_info": {
   "codemirror_mode": {
    "name": "ipython",
    "version": 3
   },
   "file_extension": ".py",
   "mimetype": "text/x-python",
   "name": "python",
   "nbconvert_exporter": "python",
   "pygments_lexer": "ipython3",
   "version": "3.6.2"
  }
 },
 "nbformat": 4,
 "nbformat_minor": 2
}
