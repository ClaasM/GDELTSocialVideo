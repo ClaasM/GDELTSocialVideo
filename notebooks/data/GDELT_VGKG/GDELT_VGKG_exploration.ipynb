{
 "cells": [
  {
   "cell_type": "code",
   "execution_count": 8,
   "metadata": {},
   "outputs": [],
   "source": [
    "from gzip import GzipFile\n",
    "\n",
    "import pandas as pd\n",
    "\n",
    "with GzipFile('data/GDELT_VGKG/vgkg-20160427-part1.csv.gz') as gzipfile:\n",
    "    #print(gzipfile.peek(1))\n",
    "    df = pd.read_csv(gzipfile, nrows=10)\n",
    "    #for filename in files:\n",
    "    #    with zipfile.open(filename) as file:\n",
    "    #        raw = raw.append(pd.read_csv(file))"
   ]
  },
  {
   "cell_type": "code",
   "execution_count": 9,
   "metadata": {},
   "outputs": [
    {
     "data": {
      "text/html": [
       "<div>\n",
       "<style scoped>\n",
       "    .dataframe tbody tr th:only-of-type {\n",
       "        vertical-align: middle;\n",
       "    }\n",
       "\n",
       "    .dataframe tbody tr th {\n",
       "        vertical-align: top;\n",
       "    }\n",
       "\n",
       "    .dataframe thead th {\n",
       "        text-align: right;\n",
       "    }\n",
       "</style>\n",
       "<table border=\"1\" class=\"dataframe\">\n",
       "  <thead>\n",
       "    <tr style=\"text-align: right;\">\n",
       "      <th></th>\n",
       "      <th>DATE</th>\n",
       "      <th>DocumentIdentifier</th>\n",
       "      <th>ImageURL</th>\n",
       "      <th>RawJSON</th>\n",
       "    </tr>\n",
       "  </thead>\n",
       "  <tbody>\n",
       "    <tr>\n",
       "      <th>0</th>\n",
       "      <td>20160307200000</td>\n",
       "      <td>http://sputniknews.com/us/20160307/1035926176/...</td>\n",
       "      <td>http://cdn2.img.sputniknews.com/images/103268/...</td>\n",
       "      <td>{ \"responses\": [ { \"faceAnnotations\": [ { \"bou...</td>\n",
       "    </tr>\n",
       "    <tr>\n",
       "      <th>1</th>\n",
       "      <td>20160318080000</td>\n",
       "      <td>http://sverigesradio.se/sida/artikel.aspx?prog...</td>\n",
       "      <td>http://sverigesradio.se/sida/images/1646/36601...</td>\n",
       "      <td>{ \"responses\": [ { \"labelAnnotations\": [ { \"mi...</td>\n",
       "    </tr>\n",
       "    <tr>\n",
       "      <th>2</th>\n",
       "      <td>20160318080000</td>\n",
       "      <td>http://www.ht.no/nyheter/2016/03/18/Legger-seg...</td>\n",
       "      <td>http://www.ht.no/incoming/article12288611.ece/...</td>\n",
       "      <td>{ \"responses\": [ { \"labelAnnotations\": [ { \"mi...</td>\n",
       "    </tr>\n",
       "    <tr>\n",
       "      <th>3</th>\n",
       "      <td>20160423200000</td>\n",
       "      <td>http://www.arabianewspaper.com/malayalam-news/...</td>\n",
       "      <td>http://www.arabianewspaper.com/media/selfie-pn...</td>\n",
       "      <td>{ \"responses\": [ { \"labelAnnotations\": [ { \"mi...</td>\n",
       "    </tr>\n",
       "    <tr>\n",
       "      <th>4</th>\n",
       "      <td>20160322080000</td>\n",
       "      <td>http://www.cronica.com.mx/notas/2016/951571.html</td>\n",
       "      <td>http://www.cronica.com.mx/nimagenes/4/2016-03-...</td>\n",
       "      <td>{ \"responses\": [ { \"labelAnnotations\": [ { \"mi...</td>\n",
       "    </tr>\n",
       "  </tbody>\n",
       "</table>\n",
       "</div>"
      ],
      "text/plain": [
       "             DATE                                 DocumentIdentifier  \\\n",
       "0  20160307200000  http://sputniknews.com/us/20160307/1035926176/...   \n",
       "1  20160318080000  http://sverigesradio.se/sida/artikel.aspx?prog...   \n",
       "2  20160318080000  http://www.ht.no/nyheter/2016/03/18/Legger-seg...   \n",
       "3  20160423200000  http://www.arabianewspaper.com/malayalam-news/...   \n",
       "4  20160322080000   http://www.cronica.com.mx/notas/2016/951571.html   \n",
       "\n",
       "                                            ImageURL  \\\n",
       "0  http://cdn2.img.sputniknews.com/images/103268/...   \n",
       "1  http://sverigesradio.se/sida/images/1646/36601...   \n",
       "2  http://www.ht.no/incoming/article12288611.ece/...   \n",
       "3  http://www.arabianewspaper.com/media/selfie-pn...   \n",
       "4  http://www.cronica.com.mx/nimagenes/4/2016-03-...   \n",
       "\n",
       "                                             RawJSON  \n",
       "0  { \"responses\": [ { \"faceAnnotations\": [ { \"bou...  \n",
       "1  { \"responses\": [ { \"labelAnnotations\": [ { \"mi...  \n",
       "2  { \"responses\": [ { \"labelAnnotations\": [ { \"mi...  \n",
       "3  { \"responses\": [ { \"labelAnnotations\": [ { \"mi...  \n",
       "4  { \"responses\": [ { \"labelAnnotations\": [ { \"mi...  "
      ]
     },
     "execution_count": 9,
     "metadata": {},
     "output_type": "execute_result"
    }
   ],
   "source": [
    "df.head()"
   ]
  },
  {
   "cell_type": "code",
   "execution_count": 11,
   "metadata": {},
   "outputs": [
    {
     "data": {
      "text/plain": [
       "'{ \"responses\": [ { \"faceAnnotations\": [ { \"boundingPoly\": { \"vertices\": [ { \"x\": 264, \"y\": 9 }, { \"x\": 406, \"y\": 9 }, { \"x\": 406, \"y\": 173 }, { \"x\": 264, \"y\": 173 } ] }, \"fdBoundingPoly\": { \"vertices\": [ { \"x\": 288, \"y\": 49 }, { \"x\": 390, \"y\": 49 }, { \"x\": 390, \"y\": 151 }, { \"x\": 288, \"y\": 151 } ] }, \"landmarks\": [ { \"type\": \"LEFT_EYE\", \"position\": { \"x\": 340.5752, \"y\": 79.12381, \"z\": -0.00054199516 } }, { \"type\": \"RIGHT_EYE\", \"position\": { \"x\": 372.39532, \"y\": 81.820572, \"z\": 21.348127 } }, { \"type\": \"LEFT_OF_LEFT_EYEBROW\", \"position\": { \"x\": 323.15518, \"y\": 67.030869, \"z\": -4.9106364 } }, { \"type\": \"RIGHT_OF_LEFT_EYEBROW\", \"position\": { \"x\": 351.71854, \"y\": 68.606354, \"z\": -1.5819013 } }, { \"type\": \"LEFT_OF_RIGHT_EYEBROW\", \"position\": { \"x\": 370.08224, \"y\": 70.544342, \"z\": 9.9048891 } }, { \"type\": \"RIGHT_OF_RIGHT_EYEBROW\", \"position\": { \"x\": 385.22318, \"y\": 73.657684, \"z\": 34.371834 } }, { \"type\": \"MIDPOINT_BETWEEN_EYES\", \"position\": { \"x\": 360.83829, \"y\": 78.989456, \"z\": 2.8121696 } }, { \"type\": \"NOSE_TIP\", \"position\": { \"x\": 364.85275, \"y\": 102.68961, \"z\": -10.060011 } }, { \"type\": \"UPPER_LIP\", \"position\": { \"x\": 359.27151, \"y\": 120.56003, \"z\": -3.0343323 } }, { \"type\": \"LOWER_LIP\", \"position\": { \"x\": 357.28879, \"y\": 135.96426, \"z\": -1.7185892 } }, { \"type\": \"MOUTH_LEFT\", \"position\": { \"x\": 341.78574, \"y\": 126.08681, \"z\": -3.0983596 } }, { \"type\": \"MOUTH_RIGHT\", \"position\": { \"x\": 366.34433, \"y\": 128.24942, \"z\": 15.075579 } }, { \"type\": \"MOUTH_CENTER\", \"position\": { \"x\": 357.60208, \"y\": 127.32161, \"z\": -0.91370428 } }, { \"type\": \"NOSE_BOTTOM_RIGHT\", \"position\": { \"x\": 367.30679, \"y\": 108.70387, \"z\": 9.81535 } }, { \"type\": \"NOSE_BOTTOM_LEFT\", \"position\": { \"x\": 348.28217, \"y\": 106.71185, \"z\": -2.786845 } }, { \"type\": \"NOSE_BOTTOM_CENTER\", \"position\": { \"x\": 360.00592, \"y\": 109.88628, \"z\": -2.3508928 } }, { \"type\": \"LEFT_EYE_TOP_BOUNDARY\", \"position\": { \"x\": 339.09317, \"y\": 75.447968, \"z\": -3.5611737 } }, { \"type\": \"LEFT_EYE_RIGHT_CORNER\", \"position\": { \"x\": 346.77338, \"y\": 80.720467, \"z\": 3.8283606 } }, { \"type\": \"LEFT_EYE_BOTTOM_BOUNDARY\", \"position\": { \"x\": 339.24402, \"y\": 81.856079, \"z\": -1.7301093 } }, { \"type\": \"LEFT_EYE_LEFT_CORNER\", \"position\": { \"x\": 328.4122, \"y\": 78.153427, \"z\": -2.6003435 } }, { \"type\": \"LEFT_EYE_PUPIL\", \"position\": { \"x\": 337.30081, \"y\": 78.557739, \"z\": -2.6000891 } }, { \"type\": \"RIGHT_EYE_TOP_BOUNDARY\", \"position\": { \"x\": 376.14832, \"y\": 79.448318, \"z\": 20.066772 } }, { \"type\": \"RIGHT_EYE_RIGHT_CORNER\", \"position\": { \"x\": 379.59631, \"y\": 83.7673, \"z\": 30.218716 } }, { \"type\": \"RIGHT_EYE_BOTTOM_BOUNDARY\", \"position\": { \"x\": 373.22363, \"y\": 85.33725, \"z\": 21.491137 } }, { \"type\": \"RIGHT_EYE_LEFT_CORNER\", \"position\": { \"x\": 365.67462, \"y\": 82.654388, \"z\": 17.298183 } }, { \"type\": \"RIGHT_EYE_PUPIL\", \"position\": { \"x\": 375.38705, \"y\": 82.678062, \"z\": 21.645555 } }, { \"type\": \"LEFT_EYEBROW_UPPER_MIDPOINT\", \"position\": { \"x\": 339.27844, \"y\": 62.323074, \"z\": -5.266932 } }, { \"type\": \"RIGHT_EYEBROW_UPPER_MIDPOINT\", \"position\": { \"x\": 379.58459, \"y\": 66.6675, \"z\": 20.373156 } }, { \"type\": \"LEFT_EAR_TRAGION\", \"position\": { \"x\": 288.03546, \"y\": 101.12936, \"z\": 26.260502 } }, { \"type\": \"RIGHT_EAR_TRAGION\", \"position\": { \"x\": 367.56543, \"y\": 109.63911, \"z\": 80.3551 } }, { \"type\": \"FOREHEAD_GLABELLA\", \"position\": { \"x\": 361.92404, \"y\": 68.997772, \"z\": 2.8496389 } }, { \"type\": \"CHIN_GNATHION\", \"position\": { \"x\": 353.24768, \"y\": 156.10545, \"z\": 1.8466771 } }, { \"type\": \"CHIN_LEFT_GONION\", \"position\": { \"x\": 296.04962, \"y\": 128.29657, \"z\": 12.014506 } }, { \"type\": \"CHIN_RIGHT_GONION\", \"position\": { \"x\": 371.96561, \"y\": 136.86215, \"z\": 60.135212 } } ], \"rollAngle\": 2.9026072, \"panAngle\": 32.454323, \"tiltAngle\": 5.1606741, \"detectionConfidence\": 0.80269891, \"landmarkingConfidence\": 0.65324128, \"joyLikelihood\": \"VERY_UNLIKELY\", \"sorrowLikelihood\": \"VERY_UNLIKELY\", \"angerLikelihood\": \"VERY_UNLIKELY\", \"surpriseLikelihood\": \"VERY_UNLIKELY\", \"underExposedLikelihood\": \"VERY_UNLIKELY\", \"blurredLikelihood\": \"VERY_UNLIKELY\", \"headwearLikelihood\": \"VERY_UNLIKELY\" } ], \"labelAnnotations\": [ { \"mid\": \"/m/01g317\", \"description\": \"person\", \"score\": 0.8561849 }, { \"mid\": \"/m/063km\", \"description\": \"profession\", \"score\": 0.75886679 } ], \"safeSearchAnnotation\": { \"adult\": \"VERY_UNLIKELY\", \"spoof\": \"VERY_UNLIKELY\", \"medical\": \"VERY_UNLIKELY\", \"violence\": \"VERY_UNLIKELY\" }, \"imagePropertiesAnnotation\": { \"dominantColors\": { \"colors\": [ { \"color\": { \"red\": 196, \"green\": 193, \"blue\": 191 }, \"score\": 0.12907508, \"pixelFraction\": 0.14488636 }, { \"color\": { \"red\": 23, \"green\": 15, \"blue\": 17 }, \"score\": 0.10448953, \"pixelFraction\": 0.11899351 }, { \"color\": { \"red\": 209, \"green\": 192, \"blue\": 221 }, \"score\": 0.0089721605, \"pixelFraction\": 0.0041396106 }, { \"color\": { \"red\": 242, \"green\": 239, \"blue\": 235 }, \"score\": 0.10814144, \"pixelFraction\": 0.13944805 }, { \"color\": { \"red\": 162, \"green\": 158, \"blue\": 156 }, \"score\": 0.093387343, \"pixelFraction\": 0.10202922 }, { \"color\": { \"red\": 171, \"green\": 157, \"blue\": 137 }, \"score\": 0.062081385, \"pixelFraction\": 0.060227271 }, { \"color\": { \"red\": 42, \"green\": 14, \"blue\": 17 }, \"score\": 0.061334204, \"pixelFraction\": 0.03125 }, { \"color\": { \"red\": 126, \"green\": 120, \"blue\": 117 }, \"score\": 0.050864052, \"pixelFraction\": 0.053814936 }, { \"color\": { \"red\": 202, \"green\": 191, \"blue\": 171 }, \"score\": 0.0413368, \"pixelFraction\": 0.029788962 }, { \"color\": { \"red\": 134, \"green\": 120, \"blue\": 97 }, \"score\": 0.036991552, \"pixelFraction\": 0.032873377 } ] } } } ] } '"
      ]
     },
     "execution_count": 11,
     "metadata": {},
     "output_type": "execute_result"
    }
   ],
   "source": [
    "df[\"RawJSON\"][0]"
   ]
  },
  {
   "cell_type": "code",
   "execution_count": 12,
   "metadata": {},
   "outputs": [
    {
     "data": {
      "text/plain": [
       "'http://cdn2.img.sputniknews.com/images/103268/44/1032684493.jpg'"
      ]
     },
     "execution_count": 12,
     "metadata": {},
     "output_type": "execute_result"
    }
   ],
   "source": [
    "df[\"ImageURL\"][0]"
   ]
  },
  {
   "cell_type": "code",
   "execution_count": 26,
   "metadata": {},
   "outputs": [
    {
     "name": "stdout",
     "output_type": "stream",
     "text": [
      "['faceAnnotations', 'labelAnnotations', 'safeSearchAnnotation', 'imagePropertiesAnnotation']\n",
      "['labelAnnotations', 'textAnnotations', 'safeSearchAnnotation', 'imagePropertiesAnnotation']\n",
      "['labelAnnotations', 'safeSearchAnnotation', 'imagePropertiesAnnotation']\n",
      "['labelAnnotations', 'safeSearchAnnotation', 'imagePropertiesAnnotation']\n",
      "['labelAnnotations', 'safeSearchAnnotation', 'imagePropertiesAnnotation']\n",
      "['labelAnnotations', 'safeSearchAnnotation', 'imagePropertiesAnnotation']\n",
      "['labelAnnotations', 'textAnnotations', 'safeSearchAnnotation', 'imagePropertiesAnnotation']\n",
      "['labelAnnotations', 'safeSearchAnnotation', 'imagePropertiesAnnotation']\n",
      "['labelAnnotations', 'textAnnotations', 'safeSearchAnnotation', 'imagePropertiesAnnotation']\n",
      "['labelAnnotations', 'textAnnotations', 'safeSearchAnnotation', 'imagePropertiesAnnotation']\n"
     ]
    }
   ],
   "source": [
    "import json\n",
    "for index, article in df.iterrows():\n",
    "    for response in json.loads(article[-1])[\"responses\"]:\n",
    "        print([key for key in response])"
   ]
  },
  {
   "cell_type": "code",
   "execution_count": 30,
   "metadata": {},
   "outputs": [],
   "source": [
    "#with GzipFile('data/GDELT_VGKG/vgkg-20160427-part1.csv.gz') as gzipfile:\n",
    "#    sum(1 for row in gzipfile)\n",
    "# It's 6132344 lines.\n",
    "# 5000 lines result in \n",
    "# 238mb in html\n",
    "# 10 mb in sentences\n",
    "# 3.5 mb in english sentences\n",
    "# 1.7 mb in processed sentences\n",
    "# 2.9 mb in processed tokens\n",
    "# Thats only 2.5 GB of processed sentences"
   ]
  }
 ],
 "metadata": {
  "kernelspec": {
   "display_name": "Python 3",
   "language": "python",
   "name": "python3"
  },
  "language_info": {
   "codemirror_mode": {
    "name": "ipython",
    "version": 3
   },
   "file_extension": ".py",
   "mimetype": "text/x-python",
   "name": "python",
   "nbconvert_exporter": "python",
   "pygments_lexer": "ipython3",
   "version": "3.6.2"
  }
 },
 "nbformat": 4,
 "nbformat_minor": 2
}
