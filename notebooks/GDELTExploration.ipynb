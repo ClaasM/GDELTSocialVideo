{
 "cells": [
  {
   "cell_type": "code",
   "execution_count": 70,
   "metadata": {},
   "outputs": [
    {
     "name": "stdout",
     "output_type": "stream",
     "text": [
      "The autoreload extension is already loaded. To reload it, use:\n",
      "  %reload_ext autoreload\n"
     ]
    }
   ],
   "source": [
    "import psycopg2\n",
    "import pandas as pd\n",
    "import matplotlib.pyplot as plt\n",
    "import seaborn as sns\n",
    "import os\n",
    "import numpy as np\n",
    "\n",
    "%load_ext autoreload\n",
    "%autoreload 2\n",
    "import src"
   ]
  },
  {
   "cell_type": "code",
   "execution_count": 2,
   "metadata": {},
   "outputs": [],
   "source": [
    "conn = psycopg2.connect(database=\"gdelt_social_video\", user=\"postgres\")"
   ]
  },
  {
   "cell_type": "markdown",
   "metadata": {},
   "source": [
    "# Articles"
   ]
  },
  {
   "cell_type": "code",
   "execution_count": 3,
   "metadata": {},
   "outputs": [
    {
     "data": {
      "text/html": [
       "<div>\n",
       "<style scoped>\n",
       "    .dataframe tbody tr th:only-of-type {\n",
       "        vertical-align: middle;\n",
       "    }\n",
       "\n",
       "    .dataframe tbody tr th {\n",
       "        vertical-align: top;\n",
       "    }\n",
       "\n",
       "    .dataframe thead th {\n",
       "        text-align: right;\n",
       "    }\n",
       "</style>\n",
       "<table border=\"1\" class=\"dataframe\">\n",
       "  <thead>\n",
       "    <tr style=\"text-align: right;\">\n",
       "      <th></th>\n",
       "      <th>mention_identifier</th>\n",
       "      <th>confidence</th>\n",
       "      <th>in_raw_text</th>\n",
       "      <th>mention_doc_len</th>\n",
       "      <th>mention_doc_tone</th>\n",
       "    </tr>\n",
       "  </thead>\n",
       "  <tbody>\n",
       "    <tr>\n",
       "      <th>0</th>\n",
       "      <td>https://timesofindia.indiatimes.com/world/midd...</td>\n",
       "      <td>60.0</td>\n",
       "      <td>True</td>\n",
       "      <td>7012</td>\n",
       "      <td>-1.457976</td>\n",
       "    </tr>\n",
       "    <tr>\n",
       "      <th>1</th>\n",
       "      <td>https://timesofindia.indiatimes.com/world/midd...</td>\n",
       "      <td>20.0</td>\n",
       "      <td>False</td>\n",
       "      <td>7012</td>\n",
       "      <td>-1.457976</td>\n",
       "    </tr>\n",
       "    <tr>\n",
       "      <th>2</th>\n",
       "      <td>https://timesofindia.indiatimes.com/world/midd...</td>\n",
       "      <td>20.0</td>\n",
       "      <td>False</td>\n",
       "      <td>7012</td>\n",
       "      <td>-1.457976</td>\n",
       "    </tr>\n",
       "    <tr>\n",
       "      <th>3</th>\n",
       "      <td>https://timesofindia.indiatimes.com/world/midd...</td>\n",
       "      <td>60.0</td>\n",
       "      <td>True</td>\n",
       "      <td>7012</td>\n",
       "      <td>-1.457976</td>\n",
       "    </tr>\n",
       "    <tr>\n",
       "      <th>4</th>\n",
       "      <td>http://www.timescall.com/top-stories/ci_319915...</td>\n",
       "      <td>20.0</td>\n",
       "      <td>False</td>\n",
       "      <td>3231</td>\n",
       "      <td>-1.069519</td>\n",
       "    </tr>\n",
       "  </tbody>\n",
       "</table>\n",
       "</div>"
      ],
      "text/plain": [
       "                                  mention_identifier  confidence  in_raw_text  \\\n",
       "0  https://timesofindia.indiatimes.com/world/midd...        60.0         True   \n",
       "1  https://timesofindia.indiatimes.com/world/midd...        20.0        False   \n",
       "2  https://timesofindia.indiatimes.com/world/midd...        20.0        False   \n",
       "3  https://timesofindia.indiatimes.com/world/midd...        60.0         True   \n",
       "4  http://www.timescall.com/top-stories/ci_319915...        20.0        False   \n",
       "\n",
       "   mention_doc_len  mention_doc_tone  \n",
       "0             7012         -1.457976  \n",
       "1             7012         -1.457976  \n",
       "2             7012         -1.457976  \n",
       "3             7012         -1.457976  \n",
       "4             3231         -1.069519  "
      ]
     },
     "execution_count": 3,
     "metadata": {},
     "output_type": "execute_result"
    }
   ],
   "source": [
    "articles = pd.read_sql_query('SELECT mention_identifier, confidence, in_raw_text, mention_doc_len, mention_doc_tone FROM mentions',con=conn)\n",
    "articles.head()"
   ]
  },
  {
   "cell_type": "code",
   "execution_count": 15,
   "metadata": {},
   "outputs": [
    {
     "data": {
      "image/png": "[encoded data removed]",
      "text/plain": [
       "<Figure size 432x288 with 1 Axes>"
      ]
     },
     "metadata": {
      "needs_background": "light"
     },
     "output_type": "display_data"
    }
   ],
   "source": [
    "g = sns.kdeplot(data=articles[\"mention_doc_len\"].sample(10000),label=\"document length distribution\")\n",
    "g.set(xlim=(0, 20000))\n",
    "plt.savefig(os.environ['FIGURES_PATH'] + \"document_length_distribution_gdelt.pdf\", format=\"pdf\")"
   ]
  },
  {
   "cell_type": "code",
   "execution_count": 16,
   "metadata": {},
   "outputs": [
    {
     "data": {
      "text/plain": [
       "count    1.751609e+07\n",
       "mean     4.525019e+03\n",
       "std      4.722393e+03\n",
       "min      2.200000e+01\n",
       "25%      2.081000e+03\n",
       "50%      3.488000e+03\n",
       "75%      5.551000e+03\n",
       "max      4.625960e+05\n",
       "Name: mention_doc_len, dtype: float64"
      ]
     },
     "execution_count": 16,
     "metadata": {},
     "output_type": "execute_result"
    }
   ],
   "source": [
    "articles[\"mention_doc_len\"].describe()"
   ]
  },
  {
   "cell_type": "markdown",
   "metadata": {},
   "source": [
    "## InRawText"
   ]
  },
  {
   "cell_type": "code",
   "execution_count": 17,
   "metadata": {},
   "outputs": [
    {
     "data": {
      "text/plain": [
       "count     17516090\n",
       "unique           2\n",
       "top          False\n",
       "freq       9265800\n",
       "Name: in_raw_text, dtype: object"
      ]
     },
     "execution_count": 17,
     "metadata": {},
     "output_type": "execute_result"
    }
   ],
   "source": [
    "articles[\"in_raw_text\"].describe()"
   ]
  },
  {
   "cell_type": "markdown",
   "metadata": {},
   "source": [
    "## Confidence"
   ]
  },
  {
   "cell_type": "code",
   "execution_count": 18,
   "metadata": {},
   "outputs": [
    {
     "data": {
      "text/plain": [
       "count    1.751609e+07\n",
       "mean     4.463158e+01\n",
       "std      3.065017e+01\n",
       "min      1.000000e+01\n",
       "25%      2.000000e+01\n",
       "50%      4.000000e+01\n",
       "75%      6.000000e+01\n",
       "max      1.000000e+02\n",
       "Name: confidence, dtype: float64"
      ]
     },
     "execution_count": 18,
     "metadata": {},
     "output_type": "execute_result"
    }
   ],
   "source": [
    "articles[\"confidence\"].describe()"
   ]
  },
  {
   "cell_type": "markdown",
   "metadata": {},
   "source": [
    "## Tone"
   ]
  },
  {
   "cell_type": "code",
   "execution_count": 19,
   "metadata": {},
   "outputs": [
    {
     "data": {
      "text/plain": [
       "count    1.751609e+07\n",
       "mean    -2.593648e+00\n",
       "std      3.728031e+00\n",
       "min     -4.444444e+01\n",
       "25%     -4.895105e+00\n",
       "50%     -2.407002e+00\n",
       "75%     -1.552795e-01\n",
       "max      3.333333e+01\n",
       "Name: mention_doc_tone, dtype: float64"
      ]
     },
     "execution_count": 19,
     "metadata": {},
     "output_type": "execute_result"
    }
   ],
   "source": [
    "articles[\"mention_doc_tone\"].describe()"
   ]
  },
  {
   "cell_type": "markdown",
   "metadata": {},
   "source": [
    "# Events"
   ]
  },
  {
   "cell_type": "code",
   "execution_count": 69,
   "metadata": {},
   "outputs": [
    {
     "data": {
      "image/png": "[encoded data removed]",
      "text/plain": [
       "<Figure size 720x360 with 1 Axes>"
      ]
     },
     "metadata": {
      "needs_background": "light"
     },
     "output_type": "display_data"
    }
   ],
   "source": [
    "# events = pd.read_sql_query('SELECT sql_date, count(1) FROM events WHERE month_year=201807 GROUP BY sql_date',con=conn)\n",
    "# SELECT sql_date, count(1) FROM events WHERE month_year=201807 GROUP BY sql_date\n",
    "data = [(20180727,179051), (20180722,102110), (20180712,198393), (20180711,198447), (20180723,174559), (20180728,112743), (20180720,183643), (20180702,167548), (20180707,108042), (20180716,171321), (20180724,195769), (20180704,157132), (20180706,176242), (20180726,192363), (20180705,177237), (20180725,189504), (20180715,82979), (20180729,99095), (20180709,169962), (20180708,97453), (20180719,196866), (20180731,190156), (20180718,191409), (20180710,190680), (20180714,109710), (20180713,185928), (20180703,180454), (20180721,114837), (20180717,184970), (20180701,101185), (20180730,166415)]\n",
    "data.sort(key=lambda x: x[0])\n",
    "days, counts = zip(*data)\n",
    "f, ax = plt.subplots(figsize=(10, 5))\n",
    "ax.bar([str(day) for day in days], counts)\n",
    "ax.set_title(\"Number of events on the days of July 2018\")\n",
    "ticks = plt.xticks(rotation='vertical')\n",
    "plt.savefig(os.environ['FIGURES_PATH'] + \"sql_date_bar.pdf\", format=\"pdf\")"
   ]
  },
  {
   "cell_type": "code",
   "execution_count": 72,
   "metadata": {},
   "outputs": [
    {
     "data": {
      "text/plain": [
       "(159554.93548387097, 37652.131073591765, 4946203)"
      ]
     },
     "execution_count": 72,
     "metadata": {},
     "output_type": "execute_result"
    }
   ],
   "source": [
    "np.mean(counts), np.std(counts), np.sum(counts)"
   ]
  },
  {
   "cell_type": "markdown",
   "metadata": {},
   "source": [
    "## NumMentions"
   ]
  },
  {
   "cell_type": "code",
   "execution_count": null,
   "metadata": {},
   "outputs": [],
   "source": [
    "# Same for NumSources, NumArticles\n",
    "# select min(num_mentions), max(num_mentions), avg(num_mentions), stddev(num_mentions) from events"
   ]
  },
  {
   "cell_type": "markdown",
   "metadata": {},
   "source": [
    "## event_code_pie"
   ]
  },
  {
   "cell_type": "code",
   "execution_count": 122,
   "metadata": {},
   "outputs": [
    {
     "data": {
      "image/png": "[encoded data removed]",
      "text/plain": [
       "<Figure size 720x360 with 1 Axes>"
      ]
     },
     "metadata": {},
     "output_type": "display_data"
    }
   ],
   "source": [
    "\n",
    "data = [(\"181\",8701),(\"1122\",386),(\"0861\",223),(\"1623\",22),(\"083\",2415),(\"113\",1381),(\"034\",182),(\"131\",1509),(\"1043\",1699),(\"063\",1887),(\"056\",1210),(\"1013\",135),(\"1831\",1722),(\"0256\",782),(\"196\",276),(\"1222\",5),(\"1382\",21),(\"0331\",3553),(\"024\",170),(\"107\",33),(\"0252\",2),(\"1044\",750),(\"0834\",95),(\"071\",75284),(\"060\",70545),(\"161\",5589),(\"1823\",1530),(\"1724\",744),(\"0811\",124),(\"074\",974),(\"175\",2923),(\"0812\",7),(\"032\",4329),(\"0873\",811),(\"0214\",5010),(\"061\",42379),(\"114\",26847),(\"145\",3360),(\"201\",35),(\"1821\",10262),(\"0341\",125),(\"---\",1),(\"055\",6195),(\"1211\",19),(\"1411\",151),(\"150\",4681),(\"185\",393),(\"091\",1817),(\"180\",34517),(\"186\",5806),(\"0213\",988),(\"0233\",3031),(\"1124\",4054),(\"1034\",3),(\"053\",1827),(\"1722\",645),(\"0312\",423),(\"1051\",2),(\"160\",24355),(\"086\",475),(\"140\",3963),(\"1241\",1545),(\"0211\",911),(\"1033\",4),(\"191\",3239),(\"0353\",4331),(\"1383\",852),(\"1622\",3),(\"037\",1977),(\"1123\",4226),(\"1233\",453),(\"0253\",1223),(\"0872\",93),(\"203\",1138),(\"084\",47618),(\"039\",489),(\"1313\",491),(\"080\",58559),(\"1053\",1981),(\"1213\",10),(\"1125\",247),(\"151\",769),(\"010\",383990),(\"0831\",10991),(\"202\",833),(\"0332\",1882),(\"0255\",15),(\"094\",136),(\"072\",9947),(\"0334\",446),(\"1723\",1671),(\"0355\",15),(\"1712\",10900),(\"052\",5512),(\"1832\",247),(\"144\",1115),(\"0351\",108),(\"042\",396482),(\"092\",209),(\"1232\",8),(\"139\",2411),(\"1311\",12),(\"1721\",3439),(\"018\",8461),(\"044\",6663),(\"085\",1767),(\"1031\",130),(\"013\",95130),(\"1822\",3523),(\"1414\",7),(\"015\",22548),(\"016\",16558),(\"110\",88034),(\"1231\",65),(\"020\",290425),(\"041\",7051),(\"127\",1150),(\"027\",1945),(\"132\",31),(\"170\",3075),(\"1621\",69),(\"033\",10277),(\"062\",7783),(\"0814\",3),(\"152\",949),(\"164\",4880),(\"182\",9808),(\"0313\",3),(\"0231\",5129),(\"193\",72934),(\"046\",163530),(\"129\",3569),(\"184\",16),(\"116\",78),(\"128\",9886),(\"1431\",9),(\"0862\",860),(\"172\",45266),(\"082\",800),(\"174\",10334),(\"101\",1045),(\"1385\",3),(\"0234\",1522),(\"1244\",329),(\"057\",62062),(\"043\",366325),(\"022\",6653),(\"153\",1611),(\"036\",219448),(\"143\",2925),(\"011\",12247),(\"1312\",1214),(\"124\",3878),(\"1661\",9),(\"014\",41644),(\"028\",1244),(\"0232\",190),(\"1413\",3),(\"105\",209),(\"0833\",2722),(\"121\",219),(\"142\",996),(\"194\",5450),(\"1243\",1431),(\"136\",73),(\"173\",171131),(\"031\",14286),(\"051\",269680),(\"021\",939),(\"162\",1140),(\"0333\",863),(\"163\",9302),(\"1056\",779),(\"0251\",10),(\"195\",5815),(\"081\",12662),(\"0841\",25528),(\"166\",1267),(\"1412\",77),(\"190\",194991),(\"0244\",20),(\"0863\",31),(\"125\",8683),(\"038\",105),(\"012\",83503),(\"1121\",1837),(\"112\",105354),(\"026\",17879),(\"017\",26159),(\"0311\",9899),(\"0314\",43),(\"0242\",49),(\"1014\",3296),(\"0871\",2833),(\"111\",95403),(\"0874\",20516),(\"183\",1704),(\"1662\",27),(\"134\",975),(\"030\",83703),(\"064\",2078),(\"025\",6781),(\"054\",2673),(\"154\",6844),(\"073\",27860),(\"1246\",402),(\"1384\",1119),(\"093\",294),(\"192\",23631),(\"1042\",7),(\"090\",103620),(\"130\",54988),(\"023\",7440),(\"133\",1451),(\"141\",32779),(\"1054\",91),(\"115\",5812),(\"120\",95184),(\"1041\",813),(\"1234\",7),(\"0344\",52),(\"0241\",2167),(\"087\",448),(\"045\",8062),(\"075\",5520),(\"102\",116),(\"0243\",205),(\"0356\",2435),(\"0813\",11),(\"137\",180),(\"123\",134),(\"0254\",62),(\"070\",55680),(\"040\",316790),(\"122\",1155),(\"1322\",10),(\"035\",4656),(\"100\",54337),(\"0842\",1195),(\"106\",356),(\"138\",12754),(\"0212\",25),(\"019\",821),(\"171\",2919),(\"050\",57415),(\"1711\",2251)]\n",
    "data = sorted(data, key=lambda x: -x[1])\n",
    "data = data[:15] + [(\"231 other codes\", sum(map(lambda x: x[1], data[15:])))]\n",
    "labels, counts = zip(*data)\n",
    "f, ax = plt.subplots(figsize=(10, 5))\n",
    "ax.pie(counts, labels=labels, colors=plt.cm.tab20.colors)\n",
    "ax.set_title(\"Top 15 most common CAMEO codes in events in July 2018\")\n",
    "plt.savefig(os.environ['FIGURES_PATH'] + \"event_code_pie.pdf\", format=\"pdf\")"
   ]
  },
  {
   "cell_type": "code",
   "execution_count": 113,
   "metadata": {},
   "outputs": [
    {
     "data": {
      "text/plain": [
       "('042',\n",
       " '010',\n",
       " '043',\n",
       " '040',\n",
       " '020',\n",
       " '051',\n",
       " '036',\n",
       " '190',\n",
       " '173',\n",
       " '046',\n",
       " '112',\n",
       " '090',\n",
       " '111',\n",
       " '120',\n",
       " '013',\n",
       " '231 other codes')"
      ]
     },
     "execution_count": 113,
     "metadata": {},
     "output_type": "execute_result"
    }
   ],
   "source": [
    "labels"
   ]
  },
  {
   "cell_type": "code",
   "execution_count": null,
   "metadata": {},
   "outputs": [],
   "source": []
  }
 ],
 "metadata": {
  "kernelspec": {
   "display_name": "Python 3",
   "language": "python",
   "name": "python3"
  },
  "language_info": {
   "codemirror_mode": {
    "name": "ipython",
    "version": 3
   },
   "file_extension": ".py",
   "mimetype": "text/x-python",
   "name": "python",
   "nbconvert_exporter": "python",
   "pygments_lexer": "ipython3",
   "version": "3.5.2"
  }
 },
 "nbformat": 4,
 "nbformat_minor": 2
}
